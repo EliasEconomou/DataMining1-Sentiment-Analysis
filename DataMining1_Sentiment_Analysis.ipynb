{
  "nbformat": 4,
  "nbformat_minor": 0,
  "metadata": {
    "colab": {
      "name": "DataMining1 - Sentiment Analysis.ipynb",
      "provenance": [],
      "collapsed_sections": [],
      "mount_file_id": "1Mz3nYDWMan0owz7d4BrerWbIT--J15VY",
      "authorship_tag": "ABX9TyOqS03WScZQZyhY+6beWNS/",
      "include_colab_link": true
    },
    "kernelspec": {
      "name": "python3",
      "display_name": "Python 3"
    },
    "language_info": {
      "name": "python"
    }
  },
  "cells": [
    {
      "cell_type": "markdown",
      "metadata": {
        "id": "view-in-github",
        "colab_type": "text"
      },
      "source": [
        "<a href=\"https://colab.research.google.com/github/EliasEconomou/DataMining1-Sentiment-Analysis/blob/main/DataMining1_Sentiment_Analysis.ipynb\" target=\"_parent\"><img src=\"https://colab.research.google.com/assets/colab-badge.svg\" alt=\"Open In Colab\"/></a>"
      ]
    },
    {
      "cell_type": "markdown",
      "source": [
        "# **Importing Libraries and Reading Datafile**"
      ],
      "metadata": {
        "id": "3c9cCqec3_dc"
      }
    },
    {
      "cell_type": "code",
      "execution_count": null,
      "metadata": {
        "id": "c5UDgDAVfDzn"
      },
      "outputs": [],
      "source": [
        "import numpy as np\n",
        "import pandas as pd\n",
        "from sklearn.model_selection import train_test_split\n",
        "import re\n",
        "import sys\n",
        "import os.path\n",
        "#!pip install --user -U nltk\n",
        "import nltk\n",
        "nltk.download('punkt')\n",
        "nltk.download('stopwords')\n",
        "from nltk.corpus import stopwords\n",
        "from nltk.tokenize import word_tokenize"
      ]
    },
    {
      "cell_type": "code",
      "source": [
        "# Options\n",
        "pd.options.mode.chained_assignment = None"
      ],
      "metadata": {
        "id": "zobVXwWKA80s"
      },
      "execution_count": 230,
      "outputs": []
    },
    {
      "cell_type": "code",
      "source": [
        "# Reading data file\n",
        "fileExists = os.path.exists(\"./drive/MyDrive/ColabNotebooks/eclass_all_with_sentiment_v2.pkl\")\n",
        "if fileExists:\n",
        "  DF = pd.read_pickle(\"./drive/MyDrive/ColabNotebooks/eclass_all_with_sentiment_v2.pkl\")\n",
        "else:\n",
        "  print('Enter data file path:')\n",
        "  filePath = input()\n",
        "  DF = pd.read_pickle(filePath)\n"
      ],
      "metadata": {
        "id": "2Ym7TEJhhgqZ"
      },
      "execution_count": 231,
      "outputs": []
    },
    {
      "cell_type": "markdown",
      "source": [
        "# **Preprocessing and Cleaning Data**"
      ],
      "metadata": {
        "id": "39dzZwauE9Vb"
      }
    },
    {
      "cell_type": "code",
      "source": [
        "# Choose a subset of the dataset's tweets\n",
        "numOfRows = DF.shape[0]\n",
        "percentage = 4\n",
        "df = DF.iloc[:int(percentage*0.01*numOfRows)]\n",
        "print(\"Chosen number of tweets is {}.\".format(df.shape[0]))"
      ],
      "metadata": {
        "colab": {
          "base_uri": "https://localhost:8080/"
        },
        "id": "dbQDXr0f39mM",
        "outputId": "ad86d96e-0a01-4489-fe0d-ed64c6dd03a6"
      },
      "execution_count": 232,
      "outputs": [
        {
          "output_type": "stream",
          "name": "stdout",
          "text": [
            "Chosen number of tweets is 9128.\n"
          ]
        }
      ]
    },
    {
      "cell_type": "code",
      "source": [
        "df"
      ],
      "metadata": {
        "id": "TXn-XCWy0-KY"
      },
      "execution_count": null,
      "outputs": []
    },
    {
      "cell_type": "code",
      "source": [
        "# Remove punctuation, links, hashtags, new lines etc, using regular expressions\n",
        "df[\"text\"] = df[\"text\"].replace('\\.|,|\\?','', regex=True)\n",
        "df[\"text\"] = df[\"text\"].replace('\\n|\\t','', regex=True)\n",
        "df[\"text\"] = df[\"text\"].replace(r'(http\\S+)|(www\\S+)|(#\\S+)|(&\\S+)|(@\\S+)','', regex=True)\n",
        "\n",
        "# Remove emojis by encoding - decoding into ascii, resulting in ignoring emojis\n",
        "df[\"text\"] = df[\"text\"].apply(lambda x: x.encode('ascii', 'ignore').decode('ascii'))\n",
        "\n",
        "# Convert text to lowercase\n",
        "df[\"text\"] = df[\"text\"].str.lower()\n",
        "\n",
        "# Remove stopwords like 'i','is','you', etc\n",
        "stopWords = list(stopwords.words('english'))\n",
        "stopWords.remove(\"why\")\n",
        "stopWords.remove(\"how\")\n",
        "stopWords.remove(\"against\")\n",
        "stopWords.remove(\"again\")\n",
        "stopWords.remove(\"not\")\n",
        "stopWords.append(\"'ve\")\n",
        "stopWords.append(\"'re\")\n",
        "# if \"'d\" in stopWords:\n",
        "#   print(True)\n",
        "# else:\n",
        "#   print(False)\n",
        "df[\"text\"] = df[\"text\"].apply(word_tokenize)\n",
        "df[\"text\"] = df[\"text\"].apply(lambda words: [word for word in words if word not in stopWords])\n",
        "\n",
        "# Remove any unnecessary spaces\n",
        "df[\"text\"] = df[\"text\"].replace(' +', ' ', regex=True)\n"
      ],
      "metadata": {
        "id": "_Zue0HC8iSMv",
        "colab": {
          "base_uri": "https://localhost:8080/"
        },
        "outputId": "c93f90f1-5344-4c18-d64d-e5daf16b6bdb"
      },
      "execution_count": 234,
      "outputs": [
        {
          "output_type": "stream",
          "name": "stdout",
          "text": [
            "False\n"
          ]
        }
      ]
    },
    {
      "cell_type": "code",
      "source": [
        "df[\"text\"][4]"
      ],
      "metadata": {
        "colab": {
          "base_uri": "https://localhost:8080/"
        },
        "id": "ufsp1XRW0i74",
        "outputId": "52510fba-1979-4ce1-99c0-3de7650516f0"
      },
      "execution_count": 235,
      "outputs": [
        {
          "output_type": "execute_result",
          "data": {
            "text/plain": [
              "['explain', 'again', 'why', 'need', 'vaccine']"
            ]
          },
          "metadata": {},
          "execution_count": 235
        }
      ]
    },
    {
      "cell_type": "markdown",
      "source": [
        "# **Analyzing Data**"
      ],
      "metadata": {
        "id": "qastFhTm3m_h"
      }
    },
    {
      "cell_type": "code",
      "source": [
        "!git reset --hard HEAD^"
      ],
      "metadata": {
        "id": "kv34aRQf3mNm",
        "colab": {
          "base_uri": "https://localhost:8080/"
        },
        "outputId": "011cfbb0-0952-4f39-ba5a-3b8bd2151562"
      },
      "execution_count": 239,
      "outputs": [
        {
          "output_type": "stream",
          "name": "stdout",
          "text": [
            "fatal: not a git repository (or any of the parent directories): .git\n"
          ]
        }
      ]
    }
  ]
}
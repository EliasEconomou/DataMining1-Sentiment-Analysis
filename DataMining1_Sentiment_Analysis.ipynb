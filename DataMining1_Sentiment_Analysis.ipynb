{
  "cells": [
    {
      "cell_type": "markdown",
      "metadata": {
        "id": "view-in-github",
        "colab_type": "text"
      },
      "source": [
        "<a href=\"https://colab.research.google.com/github/EliasEconomou/DataMining1-Sentiment-Analysis/blob/main/DataMining1_Sentiment_Analysis.ipynb\" target=\"_parent\"><img src=\"https://colab.research.google.com/assets/colab-badge.svg\" alt=\"Open In Colab\"/></a>"
      ]
    },
    {
      "cell_type": "markdown",
      "metadata": {
        "id": "3c9cCqec3_dc"
      },
      "source": [
        "# **Importing Libraries and Reading Datafile**"
      ]
    },
    {
      "cell_type": "code",
      "execution_count": 1,
      "metadata": {
        "colab": {
          "base_uri": "https://localhost:8080/"
        },
        "id": "c5UDgDAVfDzn",
        "outputId": "3be88058-9c64-4124-bf81-cd93e1486fef"
      },
      "outputs": [
        {
          "output_type": "stream",
          "name": "stdout",
          "text": [
            "[nltk_data] Downloading package punkt to /root/nltk_data...\n",
            "[nltk_data]   Unzipping tokenizers/punkt.zip.\n",
            "[nltk_data] Downloading package stopwords to /root/nltk_data...\n",
            "[nltk_data]   Unzipping corpora/stopwords.zip.\n"
          ]
        }
      ],
      "source": [
        "import numpy as np\n",
        "import pandas as pd\n",
        "import re\n",
        "import sys\n",
        "import os.path\n",
        "#!pip install --user -U nltk\n",
        "import nltk\n",
        "nltk.download('punkt')\n",
        "nltk.download('stopwords')\n",
        "from nltk.corpus import stopwords\n",
        "from nltk.tokenize import word_tokenize\n",
        "from nltk.probability import FreqDist\n",
        "from wordcloud import WordCloud\n",
        "import math\n",
        "from itertools import chain\n",
        "import matplotlib.pyplot as plt\n",
        "from datetime import datetime\n",
        "from sklearn.model_selection import train_test_split\n",
        "from sklearn.feature_extraction.text import CountVectorizer\n",
        "from sklearn.feature_extraction.text import TfidfVectorizer\n",
        "import gensim\n",
        "import pickle\n",
        "from sklearn import svm\n",
        "from sklearn.ensemble import RandomForestClassifier\n",
        "from sklearn.neighbors import KNeighborsClassifier\n",
        "from sklearn import model_selection\n",
        "from sklearn.preprocessing import MultiLabelBinarizer\n",
        "from sklearn.model_selection import cross_val_score\n",
        "from sklearn.model_selection import cross_validate\n",
        "from sklearn.metrics import make_scorer, accuracy_score, precision_score, recall_score, f1_score\n",
        "import plotly.graph_objects as go\n"
      ]
    },
    {
      "cell_type": "code",
      "execution_count": 2,
      "metadata": {
        "id": "zobVXwWKA80s"
      },
      "outputs": [],
      "source": [
        "# Options\n",
        "pd.options.mode.chained_assignment = None"
      ]
    },
    {
      "cell_type": "code",
      "execution_count": 3,
      "metadata": {
        "id": "2Ym7TEJhhgqZ",
        "colab": {
          "base_uri": "https://localhost:8080/",
          "height": 0
        },
        "outputId": "8d35143e-9acb-46e0-8dab-560ddad570d8"
      },
      "outputs": [
        {
          "output_type": "execute_result",
          "data": {
            "text/plain": [
              "                    id             user_name              user_location  \\\n",
              "0  1340539111971516416            Rachel Roh  La Crescenta-Montrose, CA   \n",
              "1  1338158543359250433           Albert Fong          San Francisco, CA   \n",
              "2  1337858199140118533              eli🇱🇹🇪🇺👌                   Your Bed   \n",
              "3  1337855739918835717         Charles Adler     Vancouver, BC - Canada   \n",
              "4  1337854064604966912  Citizen News Channel                        NaN   \n",
              "\n",
              "                                    user_description         user_created  \\\n",
              "0  Aggregator of Asian American news; scanning di...  2009-04-08 17:52:46   \n",
              "1  Marketing dude, tech geek, heavy metal & '80s ...  2009-09-21 15:27:30   \n",
              "2                                     heil, hydra 🖐☺  2020-06-25 23:30:28   \n",
              "3  Hosting \"CharlesAdlerTonight\" Global News Radi...  2008-09-10 11:28:53   \n",
              "4  Citizen News Channel bringing you an alternati...  2020-04-23 17:58:42   \n",
              "\n",
              "   user_followers  user_friends  user_favourites  user_verified  \\\n",
              "0             405          1692             3247          False   \n",
              "1             834           666              178          False   \n",
              "2              10            88              155          False   \n",
              "3           49165          3933            21853           True   \n",
              "4             152           580             1473          False   \n",
              "\n",
              "                  date                                               text  \\\n",
              "0  2020-12-20 06:06:44  Same folks said daikon paste could treat a cyt...   \n",
              "1  2020-12-13 16:27:13  While the world has been on the wrong side of ...   \n",
              "2  2020-12-12 20:33:45  #coronavirus #SputnikV #AstraZeneca #PfizerBio...   \n",
              "3  2020-12-12 20:23:59  Facts are immutable, Senator, even when you're...   \n",
              "4  2020-12-12 20:17:19  Explain to me again why we need a vaccine @Bor...   \n",
              "\n",
              "                                            hashtags               source  \\\n",
              "0                                 ['PfizerBioNTech']  Twitter for Android   \n",
              "1                                                NaN      Twitter Web App   \n",
              "2  ['coronavirus', 'SputnikV', 'AstraZeneca', 'Pf...  Twitter for Android   \n",
              "3                                                NaN      Twitter Web App   \n",
              "4     ['whereareallthesickpeople', 'PfizerBioNTech']   Twitter for iPhone   \n",
              "\n",
              "   retweets  favorites  is_retweet sentiment  \n",
              "0         0          0       False       NEU  \n",
              "1         1          1       False       NEG  \n",
              "2         0          0       False       NEU  \n",
              "3       446       2129       False       NEU  \n",
              "4         0          0       False       NEG  "
            ],
            "text/html": [
              "\n",
              "  <div id=\"df-936d597d-989e-4442-b2cc-d26368bc2057\">\n",
              "    <div class=\"colab-df-container\">\n",
              "      <div>\n",
              "<style scoped>\n",
              "    .dataframe tbody tr th:only-of-type {\n",
              "        vertical-align: middle;\n",
              "    }\n",
              "\n",
              "    .dataframe tbody tr th {\n",
              "        vertical-align: top;\n",
              "    }\n",
              "\n",
              "    .dataframe thead th {\n",
              "        text-align: right;\n",
              "    }\n",
              "</style>\n",
              "<table border=\"1\" class=\"dataframe\">\n",
              "  <thead>\n",
              "    <tr style=\"text-align: right;\">\n",
              "      <th></th>\n",
              "      <th>id</th>\n",
              "      <th>user_name</th>\n",
              "      <th>user_location</th>\n",
              "      <th>user_description</th>\n",
              "      <th>user_created</th>\n",
              "      <th>user_followers</th>\n",
              "      <th>user_friends</th>\n",
              "      <th>user_favourites</th>\n",
              "      <th>user_verified</th>\n",
              "      <th>date</th>\n",
              "      <th>text</th>\n",
              "      <th>hashtags</th>\n",
              "      <th>source</th>\n",
              "      <th>retweets</th>\n",
              "      <th>favorites</th>\n",
              "      <th>is_retweet</th>\n",
              "      <th>sentiment</th>\n",
              "    </tr>\n",
              "  </thead>\n",
              "  <tbody>\n",
              "    <tr>\n",
              "      <th>0</th>\n",
              "      <td>1340539111971516416</td>\n",
              "      <td>Rachel Roh</td>\n",
              "      <td>La Crescenta-Montrose, CA</td>\n",
              "      <td>Aggregator of Asian American news; scanning di...</td>\n",
              "      <td>2009-04-08 17:52:46</td>\n",
              "      <td>405</td>\n",
              "      <td>1692</td>\n",
              "      <td>3247</td>\n",
              "      <td>False</td>\n",
              "      <td>2020-12-20 06:06:44</td>\n",
              "      <td>Same folks said daikon paste could treat a cyt...</td>\n",
              "      <td>['PfizerBioNTech']</td>\n",
              "      <td>Twitter for Android</td>\n",
              "      <td>0</td>\n",
              "      <td>0</td>\n",
              "      <td>False</td>\n",
              "      <td>NEU</td>\n",
              "    </tr>\n",
              "    <tr>\n",
              "      <th>1</th>\n",
              "      <td>1338158543359250433</td>\n",
              "      <td>Albert Fong</td>\n",
              "      <td>San Francisco, CA</td>\n",
              "      <td>Marketing dude, tech geek, heavy metal &amp; '80s ...</td>\n",
              "      <td>2009-09-21 15:27:30</td>\n",
              "      <td>834</td>\n",
              "      <td>666</td>\n",
              "      <td>178</td>\n",
              "      <td>False</td>\n",
              "      <td>2020-12-13 16:27:13</td>\n",
              "      <td>While the world has been on the wrong side of ...</td>\n",
              "      <td>NaN</td>\n",
              "      <td>Twitter Web App</td>\n",
              "      <td>1</td>\n",
              "      <td>1</td>\n",
              "      <td>False</td>\n",
              "      <td>NEG</td>\n",
              "    </tr>\n",
              "    <tr>\n",
              "      <th>2</th>\n",
              "      <td>1337858199140118533</td>\n",
              "      <td>eli🇱🇹🇪🇺👌</td>\n",
              "      <td>Your Bed</td>\n",
              "      <td>heil, hydra 🖐☺</td>\n",
              "      <td>2020-06-25 23:30:28</td>\n",
              "      <td>10</td>\n",
              "      <td>88</td>\n",
              "      <td>155</td>\n",
              "      <td>False</td>\n",
              "      <td>2020-12-12 20:33:45</td>\n",
              "      <td>#coronavirus #SputnikV #AstraZeneca #PfizerBio...</td>\n",
              "      <td>['coronavirus', 'SputnikV', 'AstraZeneca', 'Pf...</td>\n",
              "      <td>Twitter for Android</td>\n",
              "      <td>0</td>\n",
              "      <td>0</td>\n",
              "      <td>False</td>\n",
              "      <td>NEU</td>\n",
              "    </tr>\n",
              "    <tr>\n",
              "      <th>3</th>\n",
              "      <td>1337855739918835717</td>\n",
              "      <td>Charles Adler</td>\n",
              "      <td>Vancouver, BC - Canada</td>\n",
              "      <td>Hosting \"CharlesAdlerTonight\" Global News Radi...</td>\n",
              "      <td>2008-09-10 11:28:53</td>\n",
              "      <td>49165</td>\n",
              "      <td>3933</td>\n",
              "      <td>21853</td>\n",
              "      <td>True</td>\n",
              "      <td>2020-12-12 20:23:59</td>\n",
              "      <td>Facts are immutable, Senator, even when you're...</td>\n",
              "      <td>NaN</td>\n",
              "      <td>Twitter Web App</td>\n",
              "      <td>446</td>\n",
              "      <td>2129</td>\n",
              "      <td>False</td>\n",
              "      <td>NEU</td>\n",
              "    </tr>\n",
              "    <tr>\n",
              "      <th>4</th>\n",
              "      <td>1337854064604966912</td>\n",
              "      <td>Citizen News Channel</td>\n",
              "      <td>NaN</td>\n",
              "      <td>Citizen News Channel bringing you an alternati...</td>\n",
              "      <td>2020-04-23 17:58:42</td>\n",
              "      <td>152</td>\n",
              "      <td>580</td>\n",
              "      <td>1473</td>\n",
              "      <td>False</td>\n",
              "      <td>2020-12-12 20:17:19</td>\n",
              "      <td>Explain to me again why we need a vaccine @Bor...</td>\n",
              "      <td>['whereareallthesickpeople', 'PfizerBioNTech']</td>\n",
              "      <td>Twitter for iPhone</td>\n",
              "      <td>0</td>\n",
              "      <td>0</td>\n",
              "      <td>False</td>\n",
              "      <td>NEG</td>\n",
              "    </tr>\n",
              "  </tbody>\n",
              "</table>\n",
              "</div>\n",
              "      <button class=\"colab-df-convert\" onclick=\"convertToInteractive('df-936d597d-989e-4442-b2cc-d26368bc2057')\"\n",
              "              title=\"Convert this dataframe to an interactive table.\"\n",
              "              style=\"display:none;\">\n",
              "        \n",
              "  <svg xmlns=\"http://www.w3.org/2000/svg\" height=\"24px\"viewBox=\"0 0 24 24\"\n",
              "       width=\"24px\">\n",
              "    <path d=\"M0 0h24v24H0V0z\" fill=\"none\"/>\n",
              "    <path d=\"M18.56 5.44l.94 2.06.94-2.06 2.06-.94-2.06-.94-.94-2.06-.94 2.06-2.06.94zm-11 1L8.5 8.5l.94-2.06 2.06-.94-2.06-.94L8.5 2.5l-.94 2.06-2.06.94zm10 10l.94 2.06.94-2.06 2.06-.94-2.06-.94-.94-2.06-.94 2.06-2.06.94z\"/><path d=\"M17.41 7.96l-1.37-1.37c-.4-.4-.92-.59-1.43-.59-.52 0-1.04.2-1.43.59L10.3 9.45l-7.72 7.72c-.78.78-.78 2.05 0 2.83L4 21.41c.39.39.9.59 1.41.59.51 0 1.02-.2 1.41-.59l7.78-7.78 2.81-2.81c.8-.78.8-2.07 0-2.86zM5.41 20L4 18.59l7.72-7.72 1.47 1.35L5.41 20z\"/>\n",
              "  </svg>\n",
              "      </button>\n",
              "      \n",
              "  <style>\n",
              "    .colab-df-container {\n",
              "      display:flex;\n",
              "      flex-wrap:wrap;\n",
              "      gap: 12px;\n",
              "    }\n",
              "\n",
              "    .colab-df-convert {\n",
              "      background-color: #E8F0FE;\n",
              "      border: none;\n",
              "      border-radius: 50%;\n",
              "      cursor: pointer;\n",
              "      display: none;\n",
              "      fill: #1967D2;\n",
              "      height: 32px;\n",
              "      padding: 0 0 0 0;\n",
              "      width: 32px;\n",
              "    }\n",
              "\n",
              "    .colab-df-convert:hover {\n",
              "      background-color: #E2EBFA;\n",
              "      box-shadow: 0px 1px 2px rgba(60, 64, 67, 0.3), 0px 1px 3px 1px rgba(60, 64, 67, 0.15);\n",
              "      fill: #174EA6;\n",
              "    }\n",
              "\n",
              "    [theme=dark] .colab-df-convert {\n",
              "      background-color: #3B4455;\n",
              "      fill: #D2E3FC;\n",
              "    }\n",
              "\n",
              "    [theme=dark] .colab-df-convert:hover {\n",
              "      background-color: #434B5C;\n",
              "      box-shadow: 0px 1px 3px 1px rgba(0, 0, 0, 0.15);\n",
              "      filter: drop-shadow(0px 1px 2px rgba(0, 0, 0, 0.3));\n",
              "      fill: #FFFFFF;\n",
              "    }\n",
              "  </style>\n",
              "\n",
              "      <script>\n",
              "        const buttonEl =\n",
              "          document.querySelector('#df-936d597d-989e-4442-b2cc-d26368bc2057 button.colab-df-convert');\n",
              "        buttonEl.style.display =\n",
              "          google.colab.kernel.accessAllowed ? 'block' : 'none';\n",
              "\n",
              "        async function convertToInteractive(key) {\n",
              "          const element = document.querySelector('#df-936d597d-989e-4442-b2cc-d26368bc2057');\n",
              "          const dataTable =\n",
              "            await google.colab.kernel.invokeFunction('convertToInteractive',\n",
              "                                                     [key], {});\n",
              "          if (!dataTable) return;\n",
              "\n",
              "          const docLinkHtml = 'Like what you see? Visit the ' +\n",
              "            '<a target=\"_blank\" href=https://colab.research.google.com/notebooks/data_table.ipynb>data table notebook</a>'\n",
              "            + ' to learn more about interactive tables.';\n",
              "          element.innerHTML = '';\n",
              "          dataTable['output_type'] = 'display_data';\n",
              "          await google.colab.output.renderOutput(dataTable, element);\n",
              "          const docLink = document.createElement('div');\n",
              "          docLink.innerHTML = docLinkHtml;\n",
              "          element.appendChild(docLink);\n",
              "        }\n",
              "      </script>\n",
              "    </div>\n",
              "  </div>\n",
              "  "
            ]
          },
          "metadata": {},
          "execution_count": 3
        }
      ],
      "source": [
        "# Reading data file\n",
        "filePath = \"./drive/MyDrive/ColabNotebooks/eclass_all_with_sentiment_v2.pkl\"\n",
        "fileExists = os.path.exists(filePath)\n",
        "if fileExists:\n",
        "  allRowsDF = pd.read_pickle(filePath)\n",
        "else:\n",
        "  print('Enter data file path:')\n",
        "  filePath = input()\n",
        "  allRowsDF = pd.read_pickle(filePath)\n",
        "allRowsDF.head()"
      ]
    },
    {
      "cell_type": "markdown",
      "metadata": {
        "id": "39dzZwauE9Vb"
      },
      "source": [
        "# **Preprocessing and Cleaning Data**\n",
        "> We start by cleaning the given dataset of stop words, links, emojis and more. Then tokenize it and remove any empty tweets left.\n",
        "\n"
      ]
    },
    {
      "cell_type": "code",
      "execution_count": 4,
      "metadata": {
        "colab": {
          "base_uri": "https://localhost:8080/"
        },
        "id": "dbQDXr0f39mM",
        "outputId": "d5852773-9817-48a0-9d9e-301bbc847700"
      },
      "outputs": [
        {
          "output_type": "stream",
          "name": "stdout",
          "text": [
            "Chosen number of tweets is 228207 - 100% of the given dataset.\n"
          ]
        }
      ],
      "source": [
        "# Choose a subset of the full dataset's tweets\n",
        "numOfRows = allRowsDF.shape[0]\n",
        "# We'll use all tweets for analyzing data and maybe use a subset later in\n",
        "# training if that process is very slow\n",
        "percentage = 100\n",
        "initDF = allRowsDF.iloc[:int(percentage*0.01*numOfRows)]\n",
        "print(\"Chosen number of tweets is {} - {}% of the given dataset.\".format(initDF.shape[0], percentage))"
      ]
    },
    {
      "cell_type": "code",
      "execution_count": 5,
      "metadata": {
        "colab": {
          "base_uri": "https://localhost:8080/"
        },
        "id": "_Zue0HC8iSMv",
        "outputId": "58fa97e9-0744-4d53-fd8e-4f3e79c00db2"
      },
      "outputs": [
        {
          "output_type": "stream",
          "name": "stdout",
          "text": [
            "Dataframe has 226210 tweets after cleaning. 1997 were removed as empty.\n"
          ]
        }
      ],
      "source": [
        "# About to start cleaning dataframe, let's keep the initial one\n",
        "df = initDF.copy()\n",
        "dfInitNumTweets = df.shape[0]\n",
        "\n",
        "# Remove punctuation, links, hashtags, new lines etc, using regular expressions\n",
        "df[\"text\"] = df[\"text\"].replace('\\.|,|\\?|!|:|\\(|\\)|%|\\$','', regex=True)\n",
        "df[\"text\"] = df[\"text\"].replace('\\n|\\t','', regex=True)\n",
        "df[\"text\"] = df[\"text\"].replace(r'(http\\S+)|(www\\S+)|(#\\S+)|(&\\S+)|(@\\S+)','', regex=True)\n",
        "df[\"text\"] = df[\"text\"].replace('(\\s-\\s)','', regex=True)\n",
        "df[\"text\"] = df[\"text\"].replace(r'\\b[0-9]+\\b', '', regex=True)\n",
        "\n",
        "# Remove emojis by encoding - decoding into ascii, resulting in ignoring emojis\n",
        "df[\"text\"] = df[\"text\"].apply(lambda x: x.encode('ascii', 'ignore').decode('ascii'))\n",
        "\n",
        "# Convert text to lowercase\n",
        "df[\"text\"] = df[\"text\"].str.lower()\n",
        "\n",
        "# Remove stopwords like 'i','is','you', etc\n",
        "stopWords = list(stopwords.words('english'))\n",
        "stopWords.remove(\"why\")\n",
        "stopWords.remove(\"how\")\n",
        "stopWords.remove(\"against\")\n",
        "stopWords.remove(\"again\")\n",
        "stopWords.remove(\"not\")\n",
        "stopWords.append(\"'ve\")\n",
        "stopWords.append(\"'re\")\n",
        "stopWords.append(\"'s\")\n",
        "stopWords.append(\"``\")\n",
        "stopWords.append(\"''\")\n",
        "\n",
        "# if \"'d\" in stopWords:\n",
        "#   print(True)\n",
        "# else:\n",
        "#   print(False)\n",
        "df[\"text\"] = df[\"text\"].apply(word_tokenize)\n",
        "df[\"text\"] = df[\"text\"].apply(lambda words: [word for word in words if word not in stopWords])\n",
        "\n",
        "# Remove any unnecessary spaces\n",
        "df[\"text\"] = df[\"text\"].replace(' +', ' ', regex=True)\n",
        "\n",
        "# Remove rows with empty data\n",
        "df = df[~df.text.str.len().eq(0)]\n",
        "df = df.reset_index()\n",
        "\n",
        "print(\"Dataframe has {} tweets after cleaning. {} were removed as empty.\".format(df.shape[0],dfInitNumTweets-df.shape[0]))"
      ]
    },
    {
      "cell_type": "markdown",
      "metadata": {
        "id": "qastFhTm3m_h"
      },
      "source": [
        "# **Analyzing Data**\n",
        "\n",
        "\n",
        "> Then we use the cleaned dataframe to extract some useful info regarding users' sentiments on vaccines. We explore most used words, sentiments of popular users, tweets by month and more.\n",
        "\n"
      ]
    },
    {
      "cell_type": "markdown",
      "metadata": {
        "id": "dp5E0l10jocl"
      },
      "source": [
        "##*0.   Functions*"
      ]
    },
    {
      "cell_type": "code",
      "execution_count": 6,
      "metadata": {
        "id": "ts0pJ5C9jmRH"
      },
      "outputs": [],
      "source": [
        "# Counts the appearances of sentiments in a dictionary, then plots a pie\n",
        "def plot_sentiments(dataframe,title):\n",
        "  sentimentDict = {'POS' : 0, 'NEG' : 0, 'NEU' : 0}\n",
        "  for sentiment in dataframe[\"sentiment\"]:\n",
        "    sentimentDict[sentiment] += 1\n",
        "\n",
        "  labels = sentimentDict.keys()\n",
        "  sizes = sentimentDict.values()\n",
        "  explode = [0, 0, 0.07]\n",
        "\n",
        "  fig1, ax1 = plt.subplots()\n",
        "  ax1.pie(sizes, explode=explode, labels=labels, autopct='%1.1f%%',\n",
        "          shadow=True, startangle=-25)\n",
        "  ax1.axis('equal')\n",
        "  plt.title(label=title,\n",
        "            loc=\"left\",\n",
        "            pad='20.0',\n",
        "            backgroundcolor='lime')\n",
        "  plt.show()"
      ]
    },
    {
      "cell_type": "markdown",
      "metadata": {
        "id": "jJsDEFyJ_nVb"
      },
      "source": [
        "##*1.   Distribution of sentiments*"
      ]
    },
    {
      "cell_type": "code",
      "execution_count": 7,
      "metadata": {
        "colab": {
          "base_uri": "https://localhost:8080/",
          "height": 0
        },
        "id": "kv34aRQf3mNm",
        "outputId": "232aa39c-06c6-4db0-ac5a-1729c3e88979"
      },
      "outputs": [
        {
          "output_type": "display_data",
          "data": {
            "text/plain": [
              "<Figure size 432x288 with 1 Axes>"
            ],
            "image/png": "[encoded data removed]"
          },
          "metadata": {}
        }
      ],
      "source": [
        "plot_sentiments(df,\"Distribution of sentiments\")"
      ]
    },
    {
      "cell_type": "markdown",
      "metadata": {
        "id": "kRqLezqNE7Sl"
      },
      "source": [
        "\n",
        "##*2.   Most used words*"
      ]
    },
    {
      "cell_type": "code",
      "execution_count": 8,
      "metadata": {
        "colab": {
          "base_uri": "https://localhost:8080/",
          "height": 0
        },
        "id": "PyZdemXyFMlH",
        "outputId": "6d04a6a8-f4d6-4794-d97d-a0a1b677208a"
      },
      "outputs": [
        {
          "output_type": "display_data",
          "data": {
            "text/plain": [
              "<Figure size 432x288 with 1 Axes>"
            ],
            "image/png": "[encoded data removed]"
          },
          "metadata": {
            "needs_background": "light"
          }
        }
      ],
      "source": [
        "# Plot a wordcloud for most used words in dataset\n",
        "wordList = list(chain.from_iterable(list(df[\"text\"])))\n",
        "fdist = FreqDist(wordList)\n",
        "#print(fdist.most_common(50))\n",
        "\n",
        "wordcloud = WordCloud(max_words=50,\n",
        "                      background_color='white',\n",
        "                      contour_color='black',\n",
        "                      contour_width=4).generate_from_frequencies(fdist)\n",
        "\n",
        "\n",
        "plt.imshow(wordcloud, interpolation='bilinear')\n",
        "plt.axis('off')\n",
        "plt.title(label='Most used words',\n",
        "          loc=\"left\",\n",
        "          pad='25.0',\n",
        "          backgroundcolor='lime')\n",
        "plt.show()"
      ]
    },
    {
      "cell_type": "markdown",
      "metadata": {
        "id": "TVDSTankgivb"
      },
      "source": [
        "##*3.   Most used words by tweet sentiment*"
      ]
    },
    {
      "cell_type": "code",
      "execution_count": 9,
      "metadata": {
        "id": "Hpb2a0wRgh-1"
      },
      "outputs": [],
      "source": [
        "# Group by sentiment and plot wordclouds for most used words in every sentiment\n",
        "groupBySent = df.groupby('sentiment')\n"
      ]
    },
    {
      "cell_type": "code",
      "execution_count": 10,
      "metadata": {
        "id": "9DUlBdYHctC-"
      },
      "outputs": [],
      "source": [
        "POSgroup = groupBySent.get_group('POS')\n",
        "NEGgroup = groupBySent.get_group('NEG')\n",
        "NEUgroup = groupBySent.get_group('NEU')"
      ]
    },
    {
      "cell_type": "code",
      "execution_count": 11,
      "metadata": {
        "id": "z0WSNufMw4Xy"
      },
      "outputs": [],
      "source": [
        "POSList = list(chain.from_iterable(list(POSgroup[\"text\"])))\n",
        "POSfdist = FreqDist(POSList)\n",
        "NEGList = list(chain.from_iterable(list(NEGgroup[\"text\"])))\n",
        "NEGfdist = FreqDist(NEGList)\n",
        "NEUList = list(chain.from_iterable(list(NEUgroup[\"text\"])))\n",
        "NEUfdist = FreqDist(NEUList)"
      ]
    },
    {
      "cell_type": "code",
      "execution_count": 12,
      "metadata": {
        "colab": {
          "base_uri": "https://localhost:8080/",
          "height": 0
        },
        "id": "3yS9G1Pa5NIi",
        "outputId": "eb2277df-b82f-47de-c4d7-087906430a7b"
      },
      "outputs": [
        {
          "output_type": "display_data",
          "data": {
            "text/plain": [
              "<Figure size 432x288 with 1 Axes>"
            ],
            "image/png": "[encoded data removed]"
          },
          "metadata": {
            "needs_background": "light"
          }
        }
      ],
      "source": [
        "POScloud = WordCloud(max_words=50,\n",
        "                      background_color='white',\n",
        "                      contour_color='black',\n",
        "                      contour_width=4).generate_from_frequencies(POSfdist)\n",
        "\n",
        "plt.imshow(POScloud, interpolation='bilinear')\n",
        "plt.axis('off')\n",
        "plt.title(label='Most used words - POSITIVE tweets',\n",
        "          loc=\"left\",\n",
        "          pad='25.0',\n",
        "          backgroundcolor='lime')\n",
        "plt.show()"
      ]
    },
    {
      "cell_type": "code",
      "execution_count": 13,
      "metadata": {
        "colab": {
          "base_uri": "https://localhost:8080/",
          "height": 0
        },
        "id": "KyCdPXjl7bTC",
        "outputId": "4b98a040-f364-400f-eaa7-6de38f1e71df"
      },
      "outputs": [
        {
          "output_type": "display_data",
          "data": {
            "text/plain": [
              "<Figure size 432x288 with 1 Axes>"
            ],
            "image/png": "[encoded data removed]"
          },
          "metadata": {
            "needs_background": "light"
          }
        }
      ],
      "source": [
        "NEGcloud = WordCloud(max_words=50,\n",
        "                      background_color='white',\n",
        "                      contour_color='black',\n",
        "                      contour_width=4).generate_from_frequencies(NEGfdist)\n",
        "\n",
        "plt.imshow(NEGcloud, interpolation='bilinear')\n",
        "plt.axis('off')\n",
        "plt.title(label='Most used words - NEGATIVE tweets',\n",
        "          loc=\"left\",\n",
        "          pad='25.0',\n",
        "          backgroundcolor='lime')\n",
        "plt.show()"
      ]
    },
    {
      "cell_type": "code",
      "execution_count": 14,
      "metadata": {
        "colab": {
          "base_uri": "https://localhost:8080/",
          "height": 0
        },
        "id": "aKKC0qIVx44G",
        "outputId": "16bede6b-b438-4a9b-d75d-850d0e8b8454"
      },
      "outputs": [
        {
          "output_type": "display_data",
          "data": {
            "text/plain": [
              "<Figure size 432x288 with 1 Axes>"
            ],
            "image/png": "[encoded data removed]"
          },
          "metadata": {
            "needs_background": "light"
          }
        }
      ],
      "source": [
        "NEUcloud = WordCloud(max_words=50,\n",
        "                      background_color='white',\n",
        "                      contour_color='black',\n",
        "                      contour_width=4).generate_from_frequencies(NEUfdist)\n",
        "\n",
        "plt.imshow(NEUcloud, interpolation='bilinear')\n",
        "plt.axis('off')\n",
        "plt.title(label='Most used words - NEUTRAL tweets',\n",
        "          loc=\"left\",\n",
        "          pad='25.0',\n",
        "          backgroundcolor='lime')\n",
        "plt.show()"
      ]
    },
    {
      "cell_type": "markdown",
      "metadata": {
        "id": "VtpNkV_HWxpv"
      },
      "source": [
        "##*4.   Sentiments on astrazeneca / pfizer-moderna vaccines*"
      ]
    },
    {
      "cell_type": "code",
      "source": [
        "# Use the initial not cleaned dataframe for this one\n",
        "tempDf = initDF.copy()\n",
        "\n",
        "# Convert text to lowercase\n",
        "tempDf[\"text\"] = tempDf[\"text\"].str.lower()\n",
        "\n",
        "# Search for sub-strings and keep the rows\n",
        "df1 = tempDf[tempDf[\"text\"].str.contains(\"astrazeneca\")]\n",
        "df2 = tempDf[tempDf[\"text\"].str.contains(\"pfizer|moderna|biontech\")]\n",
        "\n",
        "print(df1.shape,df2.shape)"
      ],
      "metadata": {
        "colab": {
          "base_uri": "https://localhost:8080/"
        },
        "id": "1qbsVNoIhZYI",
        "outputId": "2af8b2cc-9ca2-43e2-d8b3-2bc742009c8f"
      },
      "execution_count": 15,
      "outputs": [
        {
          "output_type": "stream",
          "name": "stdout",
          "text": [
            "(7477, 17) (59500, 17)\n"
          ]
        }
      ]
    },
    {
      "cell_type": "code",
      "execution_count": 16,
      "metadata": {
        "colab": {
          "base_uri": "https://localhost:8080/",
          "height": 0
        },
        "id": "8E8vNNuP7kCd",
        "outputId": "1b8c7bcd-baa9-489e-e90d-bdf8c8cc4223"
      },
      "outputs": [
        {
          "output_type": "display_data",
          "data": {
            "text/plain": [
              "<Figure size 432x288 with 2 Axes>"
            ],
            "image/png": "[encoded data removed]"
          },
          "metadata": {}
        }
      ],
      "source": [
        "# Count the appearances of sentiments in a dictionary in each df\n",
        "sentimentDict1 = {'POS' : 0, 'NEG' : 0, 'NEU' : 0}\n",
        "for sentiment in df1[\"sentiment\"]:\n",
        "  sentimentDict1[sentiment] += 1\n",
        "\n",
        "sentimentDict2 = {'POS' : 0, 'NEG' : 0, 'NEU' : 0}\n",
        "for sentiment in df2[\"sentiment\"]:\n",
        "  sentimentDict2[sentiment] += 1\n",
        "\n",
        "labels1 = sentimentDict1.keys()\n",
        "sizes1 = sentimentDict1.values()\n",
        "labels2 = sentimentDict2.keys()\n",
        "sizes2 = sentimentDict2.values()\n",
        "explode = [0, 0, 0.09]\n",
        "\n",
        "fig = plt.figure()\n",
        "\n",
        "ax1 = fig.add_axes([0, .2, .3, .5], aspect=1)\n",
        "ax1.pie(sizes1, labels=labels1, radius = 1.8, autopct='%1.1f%%',\n",
        "        shadow=True, startangle=-25, explode=explode)\n",
        "ax2 = fig.add_axes([.6, .2, .3, .5], aspect=1)\n",
        "ax2.pie(sizes2, labels=labels2, radius = 1.8, autopct='%1.1f%%',\n",
        "        shadow=True, startangle=-25, explode=explode)\n",
        "ax1.set_title(label=\"Sentiments on astrazeneca\",\n",
        "          pad='65.0',\n",
        "          backgroundcolor='lime')\n",
        "ax2.set_title(label=\"Sentiments on pfizer-moderna\",\n",
        "          pad='65.0',\n",
        "          backgroundcolor='lime')\n",
        "plt.show()\n"
      ]
    },
    {
      "cell_type": "markdown",
      "metadata": {
        "id": "jX__JoCPB4lA"
      },
      "source": [
        "##*5.   Tweets per month - Important dates*"
      ]
    },
    {
      "cell_type": "code",
      "execution_count": 17,
      "metadata": {
        "id": "5RMclqowEAjj"
      },
      "outputs": [],
      "source": [
        "dateDf = df.copy()\n",
        "\n",
        "# Grouping by month\n",
        "dateDf.index = pd.to_datetime(dateDf['date'],format='%Y-%m-%d %H:%M:%S')\n",
        "groupMonth = dateDf.groupby(pd.Grouper(freq='m'))"
      ]
    },
    {
      "cell_type": "code",
      "execution_count": 18,
      "metadata": {
        "colab": {
          "base_uri": "https://localhost:8080/",
          "height": 0
        },
        "id": "AKeL-e0I5SL8",
        "outputId": "af36509c-9dad-47ea-a288-7eab04438e97"
      },
      "outputs": [
        {
          "output_type": "display_data",
          "data": {
            "text/plain": [
              "<Figure size 432x288 with 1 Axes>"
            ],
            "image/png": "[encoded data removed]"
          },
          "metadata": {
            "needs_background": "light"
          }
        }
      ],
      "source": [
        "x = groupMonth.size().keys()\n",
        "y = groupMonth.size()\n",
        "\n",
        "plt.title(label=\"Tweets per month\",\n",
        "          pad='20.0',\n",
        "          backgroundcolor='lime')\n",
        "plt.bar(x, y, width = 10)\n",
        "plt.xticks(rotation=30)\n",
        "\n",
        "plt.show()\n"
      ]
    },
    {
      "cell_type": "markdown",
      "metadata": {
        "id": "VqNCL4duM-PA"
      },
      "source": [
        "We can see more than 30000 people tweeted by the end of June to July (2021), probably because around that time vaccines get available in more and more countries and most importantly it becomes available to younger age groups (who use social media the most)\n",
        "\n",
        "By examining the data we realise that a large group of people seems to understand the risks of COVID-19 and the importance of vaccines thus gets their first doses, while another group fights vaccines because of rising conspiracy theories and misinformation about side-effects.\n",
        "\n",
        "In July 7 COVID-19 deaths surpass 4 million globally.\n"
      ]
    },
    {
      "cell_type": "markdown",
      "metadata": {
        "id": "JSa6fBT7O7Mm"
      },
      "source": [
        "##*6.   Sentiments by popular users*"
      ]
    },
    {
      "cell_type": "code",
      "execution_count": 19,
      "metadata": {
        "id": "wguBqVXLPO-j"
      },
      "outputs": [],
      "source": [
        "popDf = df[df['user_followers'] > 500000]"
      ]
    },
    {
      "cell_type": "code",
      "execution_count": 20,
      "metadata": {
        "colab": {
          "base_uri": "https://localhost:8080/",
          "height": 0
        },
        "id": "010K0G76d7NL",
        "outputId": "64899ca7-af1e-441c-ba08-6ad583480ea5"
      },
      "outputs": [
        {
          "output_type": "display_data",
          "data": {
            "text/plain": [
              "<Figure size 432x288 with 1 Axes>"
            ],
            "image/png": "[encoded data removed]"
          },
          "metadata": {}
        }
      ],
      "source": [
        "plot_sentiments(popDf,\"Sentiments by popular users\")"
      ]
    },
    {
      "cell_type": "markdown",
      "source": [
        "##*7.   Sentiments on sputnik / johnson & johnson vaccines*"
      ],
      "metadata": {
        "id": "GqLBxaN-QQtp"
      }
    },
    {
      "cell_type": "code",
      "source": [
        "# Use the initial not cleaned dataframe for this one\n",
        "tempDf = initDF.copy()\n",
        "\n",
        "# Convert text to lowercase\n",
        "tempDf[\"text\"] = tempDf[\"text\"].str.lower()\n",
        "\n",
        "# Search for sub-strings and keep the rows\n",
        "df1 = tempDf[tempDf[\"text\"].str.contains(\"sputnik\")]\n",
        "df2 = tempDf[tempDf[\"text\"].str.contains(\"johnson\")]\n"
      ],
      "metadata": {
        "id": "vzvTbGl6QLfs"
      },
      "execution_count": 21,
      "outputs": []
    },
    {
      "cell_type": "code",
      "source": [
        "# Count the appearances of sentiments in a dictionary in each df\n",
        "sentimentDict1 = {'POS' : 0, 'NEG' : 0, 'NEU' : 0}\n",
        "for sentiment in df1[\"sentiment\"]:\n",
        "  sentimentDict1[sentiment] += 1\n",
        "\n",
        "sentimentDict2 = {'POS' : 0, 'NEG' : 0, 'NEU' : 0}\n",
        "for sentiment in df2[\"sentiment\"]:\n",
        "  sentimentDict2[sentiment] += 1\n",
        "\n",
        "labels1 = sentimentDict1.keys()\n",
        "sizes1 = sentimentDict1.values()\n",
        "labels2 = sentimentDict2.keys()\n",
        "sizes2 = sentimentDict2.values()\n",
        "explode = [0, 0, 0.09]\n",
        "\n",
        "fig = plt.figure()\n",
        "\n",
        "ax1 = fig.add_axes([0, .2, .3, .5], aspect=1)\n",
        "ax1.pie(sizes1, labels=labels1, radius = 1.8, autopct='%1.1f%%',\n",
        "        shadow=True, startangle=-25, explode=explode)\n",
        "ax2 = fig.add_axes([.6, .2, .3, .5], aspect=1)\n",
        "ax2.pie(sizes2, labels=labels2, radius = 1.8, autopct='%1.1f%%',\n",
        "        shadow=True, startangle=-25, explode=explode)\n",
        "ax1.set_title(label=\"Sentiments on sputnik\",\n",
        "          pad='65.0',\n",
        "          backgroundcolor='lime')\n",
        "ax2.set_title(label=\"Sentiments on johnson & johnson\",\n",
        "          pad='65.0',\n",
        "          backgroundcolor='lime')\n",
        "plt.show()"
      ],
      "metadata": {
        "colab": {
          "base_uri": "https://localhost:8080/",
          "height": 0
        },
        "id": "exh_-81IYGkn",
        "outputId": "ab46c509-5bba-4a88-f1df-7d4d0bd5b87c"
      },
      "execution_count": 22,
      "outputs": [
        {
          "output_type": "display_data",
          "data": {
            "text/plain": [
              "<Figure size 432x288 with 2 Axes>"
            ],
            "image/png": "[encoded data removed]"
          },
          "metadata": {}
        }
      ]
    },
    {
      "cell_type": "markdown",
      "source": [
        "# **Vectorization**\n",
        "> Here we choose all given **cleaned** tweets (if training takes a long time there's a choise to choose less) and split that subset into train / test datasets.\n",
        "Then we transform our Xtrain / Xtest text into vector space models (bow, tf-idf, word embeddings) to use in training classifiers later.\n",
        "\n"
      ],
      "metadata": {
        "id": "TEVbkT7tLeLb"
      }
    },
    {
      "cell_type": "markdown",
      "source": [
        "## *0. Preprocessing*"
      ],
      "metadata": {
        "id": "KOzwfpLWQSRa"
      }
    },
    {
      "cell_type": "code",
      "source": [
        "# We'll select a subset from the preprocessed dataframe \"df\"\n",
        "numOfRows = df.shape[0]\n",
        "percentage = 10\n",
        "subDf = df.iloc[:int(percentage*0.01*numOfRows)]\n",
        "print(\"Chosen number of tweets is {} - {}% of the given dataset.\".format(subDf.shape[0], percentage))"
      ],
      "metadata": {
        "colab": {
          "base_uri": "https://localhost:8080/"
        },
        "id": "nzPE5D2JWQvd",
        "outputId": "cfbbc0e1-10b9-47d4-88b3-1122fda47949"
      },
      "execution_count": 23,
      "outputs": [
        {
          "output_type": "stream",
          "name": "stdout",
          "text": [
            "Chosen number of tweets is 22621 - 10% of the given dataset.\n"
          ]
        }
      ]
    },
    {
      "cell_type": "code",
      "source": [
        "X, y = subDf.drop(columns = \"sentiment\"), subDf[\"sentiment\"]\n",
        "print(X.shape, y.shape)"
      ],
      "metadata": {
        "colab": {
          "base_uri": "https://localhost:8080/"
        },
        "id": "Hho1hIlVwvMD",
        "outputId": "15b937bd-1138-486e-832d-9e46ac93a415"
      },
      "execution_count": 24,
      "outputs": [
        {
          "output_type": "stream",
          "name": "stdout",
          "text": [
            "(22621, 17) (22621,)\n"
          ]
        }
      ]
    },
    {
      "cell_type": "code",
      "source": [
        "# Split into train/test sets\n",
        "X_train, X_test, y_train, y_test = train_test_split(X, y, test_size=0.20, shuffle=False)\n",
        "print(X_train.shape, X_test.shape, y_train.shape, y_test.shape)"
      ],
      "metadata": {
        "colab": {
          "base_uri": "https://localhost:8080/"
        },
        "id": "-WxkdKA7u-xU",
        "outputId": "472b9aa5-0fc8-48f9-bbac-98c29d919ebb"
      },
      "execution_count": 25,
      "outputs": [
        {
          "output_type": "stream",
          "name": "stdout",
          "text": [
            "(18096, 17) (4525, 17) (18096,) (4525,)\n"
          ]
        }
      ]
    },
    {
      "cell_type": "markdown",
      "source": [
        "## *1. Bag of Words*"
      ],
      "metadata": {
        "id": "wPuEff_-SRTB"
      }
    },
    {
      "cell_type": "code",
      "source": [
        "# bow_vectorizer = CountVectorizer(max_df=1.0, min_df=1, max_features=1000)\n",
        "\n",
        "# # Create bag of words for train data\n",
        "# bow_X_train = bow_vectorizer.fit_transform(X_train[\"text\"].astype(str))\n",
        "\n",
        "# # Create bag of words for test data\n",
        "# bow_X_test = bow_vectorizer.transform(X_test[\"text\"].astype(str))\n",
        "\n",
        "# bowXtrainFilePath = \"./drive/MyDrive/ColabNotebooks/bow_X_train.pkl\"\n",
        "# bowXtestFilePath = \"./drive/MyDrive/ColabNotebooks/bow_X_test.pkl\"\n",
        "\n",
        "# # # Save\n",
        "# pickle.dump(bow_X_train, open(bowXtrainFilePath, 'wb'))\n",
        "# pickle.dump(bow_X_test, open(bowXtestFilePath, 'wb'))\n",
        "\n",
        "# # Load from disk\n",
        "# bow_X_train = pickle.load(open(bowXtrainFilePath, 'rb'))\n",
        "# bow_X_test = pickle.load(open(bowXtestFilePath, 'rb'))\n"
      ],
      "metadata": {
        "id": "MKc61D1zLlRF"
      },
      "execution_count": 26,
      "outputs": []
    },
    {
      "cell_type": "markdown",
      "source": [
        "## *2. TF-IDF*"
      ],
      "metadata": {
        "id": "OduAWGTpodtm"
      }
    },
    {
      "cell_type": "code",
      "source": [
        "# tfidf_vectorizer = TfidfVectorizer(max_df=1.0, min_df=1, max_features=1000)\n",
        "\n",
        "# # Create TD-IDF for train data\n",
        "# tfidf_X_train = tfidf_vectorizer.fit_transform(X_train[\"text\"].astype(str))\n",
        "\n",
        "# # Create TD-IDF for test data\n",
        "# tfidf_X_test = tfidf_vectorizer.transform(X_test[\"text\"].astype(str))\n",
        "\n",
        "# tfidfXtrainFilePath = \"./drive/MyDrive/ColabNotebooks/tfidfXtrain.pkl\"\n",
        "# tfidfXtestFilePath = \"./drive/MyDrive/ColabNotebooks/tfidfXtest.pkl\"\n",
        "\n",
        "# # # Save\n",
        "# pickle.dump(tfidf_X_train, open(tfidfXtrainFilePath, 'wb'))\n",
        "# pickle.dump(tfidf_X_test, open(tfidfXtestFilePath, 'wb'))\n",
        "\n",
        "# # Load from disk\n",
        "# tfidf_X_train = pickle.load(open(tfidfXtrainFilePath, 'rb'))\n",
        "# tfidf_X_test = pickle.load(open(tfidfXtestFilePath, 'rb'))"
      ],
      "metadata": {
        "id": "jMzl4p9Hon_p"
      },
      "execution_count": 27,
      "outputs": []
    },
    {
      "cell_type": "markdown",
      "source": [
        "## *3. Word Embeddings*"
      ],
      "metadata": {
        "id": "U90H6qRd4aaY"
      }
    },
    {
      "cell_type": "code",
      "source": [
        "# model_w2v = gensim.models.Word2Vec(\n",
        "#   X_train[\"text\"],\n",
        "#   size=1000, # desired no. of features/independent variables\n",
        "#   window=5, # context window size\n",
        "#   min_count=2,\n",
        "#   sg = 1, # 1 for skip-gram model\n",
        "#   hs = 0,\n",
        "#   negative = 10, # for negative sampling\n",
        "#   workers= 2, # no.of cores\n",
        "#   seed = 34)\n",
        "# model_w2v.train(X_train[\"text\"], total_examples= len(X_train[\"text\"].astype(str)), epochs=20)\n",
        "\n",
        "# # words = list(model_w2v.wv.vocab)\n",
        "# # print(words)\n"
      ],
      "metadata": {
        "id": "sM1G_Qxx4Za1"
      },
      "execution_count": 28,
      "outputs": []
    },
    {
      "cell_type": "code",
      "source": [
        "# def create_vec_tweets(sentence):\n",
        "#   tempList = np.zeros(1000)\n",
        "#   numOfWords = len(sentence)\n",
        "#   for word in sentence:  \n",
        "#     if word in model_w2v.wv:\n",
        "#       tempList = tempList + model_w2v.wv[word]\n",
        "#   tempList = tempList / numOfWords\n",
        "#   return tempList"
      ],
      "metadata": {
        "id": "veCUAlMOKQyE"
      },
      "execution_count": 29,
      "outputs": []
    },
    {
      "cell_type": "code",
      "source": [
        "# # Create vector tweets for train data\n",
        "# w2v_X_train = []\n",
        "# w2v_X_train = ([create_vec_tweets(sentence) for sentence in X_train[\"text\"]])\n",
        "\n",
        "# # Create vectors tweets for test data\n",
        "# w2v_X_test = []\n",
        "# w2v_X_test = ([create_vec_tweets(sentence) for sentence in X_test[\"text\"]])\n",
        "\n",
        "# w2vXtrainFilePath = \"./drive/MyDrive/ColabNotebooks/w2vXtrain.pkl\"\n",
        "# w2vXtestFilePath = \"./drive/MyDrive/ColabNotebooks/w2vXtest.pkl\"\n",
        "\n",
        "# # # Save\n",
        "# pickle.dump(w2v_X_train, open(w2vXtrainFilePath, 'wb'))\n",
        "# pickle.dump(w2v_X_test, open(w2vXtestFilePath, 'wb'))\n",
        "\n",
        "# # Load from disk\n",
        "# w2v_X_train = pickle.load(open(w2vXtrainFilePath, 'rb'))\n",
        "# w2v_X_test = pickle.load(open(w2vXtestFilePath, 'rb'))"
      ],
      "metadata": {
        "id": "mFCM3gVUya0P"
      },
      "execution_count": 30,
      "outputs": []
    },
    {
      "cell_type": "code",
      "source": [
        "# print(len(w2v_X_train),len(w2v_X_test))"
      ],
      "metadata": {
        "id": "1An8RVqsSyp1"
      },
      "execution_count": 31,
      "outputs": []
    },
    {
      "cell_type": "markdown",
      "source": [
        "# **10-fold Cross Validation**\n",
        "Before we train models in our big data we'll use the 10-fold cross validation method on a small subset of out dataset to try to find better parameters and evaluate our classifiers."
      ],
      "metadata": {
        "id": "xuOChRY9Mm9W"
      }
    },
    {
      "cell_type": "code",
      "source": [
        "# We'll select a small subset from the preprocessed dataframe \"df\" for\n",
        "# 10-fold cross validation. We only actually need y_train (10% of the labels)\n",
        "\n",
        "numOfRows = df.shape[0]\n",
        "percentage = 10\n",
        "cv_subDf = df.iloc[:int(percentage*0.01*numOfRows)]\n",
        "print(\"Chosen number of tweets is {} - {}% of the given dataset.\".format(cv_subDf.shape[0], percentage))\n",
        "\n",
        "cv_X, cv_y = cv_subDf.drop(columns = \"sentiment\"), cv_subDf[\"sentiment\"]\n",
        "\n",
        "# Split into train/test sets\n",
        "cv_X_train, cv_X_test, cv_y_train, cv_y_test = train_test_split(cv_X, cv_y, test_size=0.20, shuffle=False)\n",
        "print(cv_X_train.shape, cv_X_test.shape, cv_y_train.shape, cv_y_test.shape)"
      ],
      "metadata": {
        "colab": {
          "base_uri": "https://localhost:8080/"
        },
        "outputId": "01799bdc-1d5d-4029-f3ab-415f2fb1d5e8",
        "id": "kPh9lpJpvX_M"
      },
      "execution_count": 32,
      "outputs": [
        {
          "output_type": "stream",
          "name": "stdout",
          "text": [
            "Chosen number of tweets is 22621 - 10% of the given dataset.\n",
            "(18096, 17) (4525, 17) (18096,) (4525,)\n"
          ]
        }
      ]
    },
    {
      "cell_type": "code",
      "source": [
        "# We have already created bow, tf-idf, word embeddings models for 10% of the\n",
        "# full dataset and saved their X train/test datasets on disc.\n",
        "\n",
        "# Paths\n",
        "bowXtrainFilePath = \"./drive/MyDrive/ColabNotebooks/bow_X_train10p.pkl\"\n",
        "bowXtestFilePath = \"./drive/MyDrive/ColabNotebooks/bow_X_test10p.pkl\"\n",
        "\n",
        "tfidfXtrainFilePath = \"./drive/MyDrive/ColabNotebooks/tfidfXtrain10p.pkl\"\n",
        "tfidfXtestFilePath = \"./drive/MyDrive/ColabNotebooks/tfidfXtest10p.pkl\"\n",
        "\n",
        "w2vXtrainFilePath = \"./drive/MyDrive/ColabNotebooks/w2vXtrain10p.pkl\"\n",
        "w2vXtestFilePath = \"./drive/MyDrive/ColabNotebooks/w2vXtest10p.pkl\"\n",
        "\n",
        "# # Load from disk\n",
        "bow_X_train = pickle.load(open(bowXtrainFilePath, 'rb'))\n",
        "bow_X_test = pickle.load(open(bowXtestFilePath, 'rb'))\n",
        "\n",
        "tfidf_X_train = pickle.load(open(tfidfXtrainFilePath, 'rb'))\n",
        "tfidf_X_test = pickle.load(open(tfidfXtestFilePath, 'rb'))\n",
        "\n",
        "w2v_X_train = pickle.load(open(w2vXtrainFilePath, 'rb'))\n",
        "w2v_X_test = pickle.load(open(w2vXtestFilePath, 'rb'))"
      ],
      "metadata": {
        "id": "Jt7wrDBMnhpj"
      },
      "execution_count": 33,
      "outputs": []
    },
    {
      "cell_type": "code",
      "source": [
        "def create_metrics_list(classifierName,metricsList,cvResults):\n",
        "  metricsList.append(classifierName)\n",
        "  metricsList.append(np.mean(cvResults.get(\"test_precision\")))\n",
        "  metricsList.append(np.mean(cvResults.get(\"test_recall\")))\n",
        "  metricsList.append(np.mean(cvResults.get(\"test_f1_score\")))\n",
        "  metricsList.append(np.mean(cvResults.get(\"test_accuracy\")))"
      ],
      "metadata": {
        "id": "l67WE7isQPdJ"
      },
      "execution_count": 34,
      "outputs": []
    },
    {
      "cell_type": "code",
      "source": [
        "# Dictionary to hold metrics\n",
        "metrics_score = { 'precision' : make_scorer(precision_score,average='weighted'),\n",
        "                  'recall'    : make_scorer(recall_score,average='weighted'),\n",
        "                  'f1_score'  : make_scorer(f1_score,average='weighted'),\n",
        "                  'accuracy'  : make_scorer(accuracy_score) }"
      ],
      "metadata": {
        "id": "htN57QrDpOh9"
      },
      "execution_count": 35,
      "outputs": []
    },
    {
      "cell_type": "code",
      "source": [
        "svmClf = svm.SVC(C=1)"
      ],
      "metadata": {
        "id": "A9U1lG0AUdRX"
      },
      "execution_count": 36,
      "outputs": []
    },
    {
      "cell_type": "code",
      "source": [
        "# 10-fold cross validation for SVM using bow\n",
        "\n",
        "svm_bow_results = model_selection.cross_validate(estimator=svmClf,\n",
        "                                          X=bow_X_train,\n",
        "                                          y=cv_y_train,\n",
        "                                          cv=10,\n",
        "                                          scoring=metrics_score)\n",
        "\n",
        "svm_bow_metrics = []\n",
        "create_metrics_list(\"SVM on bow\",svm_bow_metrics,svm_bow_results)"
      ],
      "metadata": {
        "id": "fiW22O30BxCI"
      },
      "execution_count": 37,
      "outputs": []
    },
    {
      "cell_type": "code",
      "source": [
        "svm_bow_metrics"
      ],
      "metadata": {
        "colab": {
          "base_uri": "https://localhost:8080/"
        },
        "id": "6Uy33MHKYy6X",
        "outputId": "f44cd0ce-bb29-429d-d4c1-662336dac2e2"
      },
      "execution_count": 38,
      "outputs": [
        {
          "output_type": "execute_result",
          "data": {
            "text/plain": [
              "['SVM on bow',\n",
              " 0.7717076888940224,\n",
              " 0.7697269026262182,\n",
              " 0.7317743073392126,\n",
              " 0.7697269026262182]"
            ]
          },
          "metadata": {},
          "execution_count": 38
        }
      ]
    },
    {
      "cell_type": "code",
      "source": [
        "svm_bow_metrics"
      ],
      "metadata": {
        "colab": {
          "base_uri": "https://localhost:8080/"
        },
        "id": "z4q_1ngQYyZr",
        "outputId": "4f3cdc61-8177-42b4-91be-afdbcaac2e80"
      },
      "execution_count": 39,
      "outputs": [
        {
          "output_type": "execute_result",
          "data": {
            "text/plain": [
              "['SVM on bow',\n",
              " 0.7717076888940224,\n",
              " 0.7697269026262182,\n",
              " 0.7317743073392126,\n",
              " 0.7697269026262182]"
            ]
          },
          "metadata": {},
          "execution_count": 39
        }
      ]
    },
    {
      "cell_type": "code",
      "source": [
        "# 10-fold cross validation for SVM using tf-idf\n",
        "\n",
        "svm_tfidf_results = model_selection.cross_validate(estimator=svmClf,\n",
        "                                          X=tfidf_X_train,\n",
        "                                          y=cv_y_train,\n",
        "                                          cv=10,\n",
        "                                          scoring=metrics_score)\n",
        "\n",
        "svm_tfidf_metrics = []\n",
        "create_metrics_list(\"SVM on tf-idf\",svm_tfidf_metrics,svm_tfidf_results)"
      ],
      "metadata": {
        "id": "PhC3JUG2Tk3j"
      },
      "execution_count": 40,
      "outputs": []
    },
    {
      "cell_type": "code",
      "source": [
        "# 10-fold cross validation for SVM using word embeddings\n",
        "\n",
        "svm_w2v_results = model_selection.cross_validate(estimator=svmClf,\n",
        "                                          X=w2v_X_train,\n",
        "                                          y=cv_y_train,\n",
        "                                          cv=10,\n",
        "                                          scoring=metrics_score)\n",
        "\n",
        "svm_w2v_metrics = []\n",
        "create_metrics_list(\"SVM on word embeddings\",svm_w2v_metrics,svm_w2v_results)"
      ],
      "metadata": {
        "id": "JEbw6EQQQJBI"
      },
      "execution_count": 41,
      "outputs": []
    },
    {
      "cell_type": "code",
      "source": [
        "rfClf = RandomForestClassifier(n_jobs = -1)"
      ],
      "metadata": {
        "id": "GLibFDZRQl1K"
      },
      "execution_count": 42,
      "outputs": []
    },
    {
      "cell_type": "code",
      "source": [
        "# 10-fold cross validation for Random Forests using bow\n",
        "\n",
        "rf_bow_results = model_selection.cross_validate(estimator=rfClf,\n",
        "                                          X=bow_X_train,\n",
        "                                          y=cv_y_train,\n",
        "                                          cv=10,\n",
        "                                          scoring=metrics_score)\n",
        "\n",
        "rf_bow_metrics = []\n",
        "create_metrics_list(\"RF on bow\",rf_bow_metrics,rf_bow_results)"
      ],
      "metadata": {
        "id": "ClXiPQq6Qlzw"
      },
      "execution_count": 43,
      "outputs": []
    },
    {
      "cell_type": "code",
      "source": [
        "rf_bow_metrics"
      ],
      "metadata": {
        "colab": {
          "base_uri": "https://localhost:8080/"
        },
        "id": "atOXBKBqkk0H",
        "outputId": "648828e5-e104-4b4c-ce43-d47321ddcc1e"
      },
      "execution_count": 44,
      "outputs": [
        {
          "output_type": "execute_result",
          "data": {
            "text/plain": [
              "['RF on bow',\n",
              " 0.733072187223068,\n",
              " 0.7496136872421197,\n",
              " 0.734525203782699,\n",
              " 0.7496136872421197]"
            ]
          },
          "metadata": {},
          "execution_count": 44
        }
      ]
    },
    {
      "cell_type": "code",
      "source": [
        "rf_bow_metrics"
      ],
      "metadata": {
        "colab": {
          "base_uri": "https://localhost:8080/"
        },
        "id": "OptpAry2kj6M",
        "outputId": "917b8048-f9d0-4aac-bdf2-c404ac2aa562"
      },
      "execution_count": 45,
      "outputs": [
        {
          "output_type": "execute_result",
          "data": {
            "text/plain": [
              "['RF on bow',\n",
              " 0.733072187223068,\n",
              " 0.7496136872421197,\n",
              " 0.734525203782699,\n",
              " 0.7496136872421197]"
            ]
          },
          "metadata": {},
          "execution_count": 45
        }
      ]
    },
    {
      "cell_type": "code",
      "source": [
        "# 10-fold cross validation for Random Forests using tf-idf\n",
        "\n",
        "rf_tfidf_results = model_selection.cross_validate(estimator=rfClf,\n",
        "                                          X=tfidf_X_train,\n",
        "                                          y=cv_y_train,\n",
        "                                          cv=10,\n",
        "                                          scoring=metrics_score)\n",
        "\n",
        "rf_tfidf_metrics = []\n",
        "create_metrics_list(\"RF on tf-idf\",rf_tfidf_metrics,rf_tfidf_results)"
      ],
      "metadata": {
        "id": "dXzTa7_cYPQn"
      },
      "execution_count": 46,
      "outputs": []
    },
    {
      "cell_type": "code",
      "source": [
        "# 10-fold cross validation for Random Forests using word embeddings\n",
        "\n",
        "rf_w2v_results = model_selection.cross_validate(estimator=rfClf,\n",
        "                                          X=w2v_X_train,\n",
        "                                          y=cv_y_train,\n",
        "                                          cv=10,\n",
        "                                          scoring=metrics_score)\n",
        "\n",
        "rf_w2v_metrics = []\n",
        "create_metrics_list(\"RF on word embeddings\",rf_w2v_metrics,rf_w2v_results)"
      ],
      "metadata": {
        "id": "mRjIIaECYO-v"
      },
      "execution_count": 47,
      "outputs": []
    },
    {
      "cell_type": "code",
      "source": [
        "knnClf = KNeighborsClassifier(n_neighbors=5)"
      ],
      "metadata": {
        "id": "Wul69zQycrrv"
      },
      "execution_count": 48,
      "outputs": []
    },
    {
      "cell_type": "code",
      "source": [
        "# 10-fold cross validation for KNN using bow\n",
        "\n",
        "knn_bow_results = model_selection.cross_validate(estimator=knnClf,\n",
        "                                          X=bow_X_train,\n",
        "                                          y=cv_y_train,\n",
        "                                          cv=10,\n",
        "                                          scoring=metrics_score)\n",
        "\n",
        "knn_bow_metrics = []\n",
        "create_metrics_list(\"KNN on bow\",knn_bow_metrics,knn_bow_results)"
      ],
      "metadata": {
        "id": "Jq-7QHShgRzl"
      },
      "execution_count": 49,
      "outputs": []
    },
    {
      "cell_type": "code",
      "source": [
        "# 10-fold cross validation for KNN using tf-idf\n",
        "\n",
        "knn_tfidf_results = model_selection.cross_validate(estimator=knnClf,\n",
        "                                          X=tfidf_X_train,\n",
        "                                          y=cv_y_train,\n",
        "                                          cv=10,\n",
        "                                          scoring=metrics_score)\n",
        "\n",
        "knn_tfidf_metrics = []\n",
        "create_metrics_list(\"KNN on tf-idf\",knn_tfidf_metrics,knn_tfidf_results)"
      ],
      "metadata": {
        "id": "OPua--X0gRzm"
      },
      "execution_count": 50,
      "outputs": []
    },
    {
      "cell_type": "code",
      "source": [
        "# 10-fold cross validation for KNN using word embeddings\n",
        "\n",
        "knn_w2v_results = model_selection.cross_validate(estimator=knnClf,\n",
        "                                          X=w2v_X_train,\n",
        "                                          y=cv_y_train,\n",
        "                                          cv=10,\n",
        "                                          scoring=metrics_score)\n",
        "\n",
        "knn_w2v_metrics = []\n",
        "create_metrics_list(\"KNN on word embeddings\",knn_w2v_metrics,knn_w2v_results)"
      ],
      "metadata": {
        "id": "uKRpXOvBgRzn"
      },
      "execution_count": 51,
      "outputs": []
    },
    {
      "cell_type": "code",
      "source": [
        "print(svm_w2v_metrics[4])"
      ],
      "metadata": {
        "colab": {
          "base_uri": "https://localhost:8080/"
        },
        "id": "FpN-zJQbcrUv",
        "outputId": "16a87ee9-efe0-45f9-9080-616841a32dde"
      },
      "execution_count": 59,
      "outputs": [
        {
          "output_type": "stream",
          "name": "stdout",
          "text": [
            "0.7577903911993135\n"
          ]
        }
      ]
    },
    {
      "cell_type": "code",
      "source": [
        "headerColor = 'grey'\n",
        "rowsColor1 = 'lightgrey'\n",
        "rowsColor2 = 'white'\n",
        "\n",
        "fig = go.Figure(data=[go.Table(\n",
        "  header=dict(\n",
        "    values=['<b>Classifier</b>','<b>Precision</b>',\n",
        "            '<b>Recall</b>','<b>F-Measure</b>','<b>Accuracy</b>'],\n",
        "    line_color='darkslategray',\n",
        "    fill_color=headerColor,\n",
        "    align=['left','center'],\n",
        "    font=dict(color='white', size=15)\n",
        "  ),\n",
        "  cells=dict(\n",
        "    values=[\n",
        "      [svm_bow_metrics[0], svm_tfidf_metrics[0], svm_w2v_metrics[0], rf_bow_metrics[0], rf_tfidf_metrics[0], rf_w2v_metrics[0], knn_bow_metrics[0], knn_tfidf_metrics[0], knn_w2v_metrics[0]],\n",
        "      [svm_bow_metrics[1], svm_tfidf_metrics[1], svm_w2v_metrics[1], rf_bow_metrics[1], rf_tfidf_metrics[1], rf_w2v_metrics[1], knn_bow_metrics[1], knn_tfidf_metrics[1], knn_w2v_metrics[1]],\n",
        "      [svm_bow_metrics[2], svm_tfidf_metrics[2], svm_w2v_metrics[2], rf_bow_metrics[2], rf_tfidf_metrics[2], rf_w2v_metrics[2], knn_bow_metrics[2], knn_tfidf_metrics[2], knn_w2v_metrics[2]],\n",
        "      [svm_bow_metrics[3], svm_tfidf_metrics[3], svm_w2v_metrics[3], rf_bow_metrics[3], rf_tfidf_metrics[3], rf_w2v_metrics[3], knn_bow_metrics[3], knn_tfidf_metrics[3], knn_w2v_metrics[3]],\n",
        "      [svm_bow_metrics[4], svm_tfidf_metrics[4], svm_w2v_metrics[4], rf_bow_metrics[4], rf_tfidf_metrics[4], rf_w2v_metrics[4], knn_bow_metrics[4], knn_tfidf_metrics[4], knn_w2v_metrics[4]]],\n",
        "    line_color='darkslategray',\n",
        "    height=25,\n",
        "    # 2-D list of colors for alternating rows\n",
        "    fill_color = [[rowsColor1,rowsColor2,rowsColor1,rowsColor2,rowsColor1,rowsColor2,rowsColor1,rowsColor2,rowsColor1]],#rowEvenColor,rowOddColor,rowEvenColor,rowOddColor,rowEvenColor]],\n",
        "    align = ['left', 'center'],\n",
        "    font = dict(color = 'darkslategray', size = 9)\n",
        "    ))\n",
        "])\n",
        "\n",
        "fig.show()\n"
      ],
      "metadata": {
        "id": "nUDvy_s66WCs",
        "colab": {
          "base_uri": "https://localhost:8080/",
          "height": 542
        },
        "outputId": "55cdac74-eba8-4244-b37b-b6b511bb1b8a"
      },
      "execution_count": 90,
      "outputs": [
        {
          "output_type": "display_data",
          "data": {
            "text/html": [
              "<html>\n",
              "<head><meta charset=\"utf-8\" /></head>\n",
              "<body>\n",
              "    <div>            <script src=\"https://cdnjs.cloudflare.com/ajax/libs/mathjax/2.7.5/MathJax.js?config=TeX-AMS-MML_SVG\"></script><script type=\"text/javascript\">if (window.MathJax) {MathJax.Hub.Config({SVG: {font: \"STIX-Web\"}});}</script>                <script type=\"text/javascript\">window.PlotlyConfig = {MathJaxConfig: 'local'};</script>\n",
              "        <script src=\"https://cdn.plot.ly/plotly-2.8.3.min.js\"></script>                <div id=\"982fdf5c-2097-4cfa-a001-6d408698d8fe\" class=\"plotly-graph-div\" style=\"height:525px; width:100%;\"></div>            <script type=\"text/javascript\">                                    window.PLOTLYENV=window.PLOTLYENV || {};                                    if (document.getElementById(\"982fdf5c-2097-4cfa-a001-6d408698d8fe\")) {                    Plotly.newPlot(                        \"982fdf5c-2097-4cfa-a001-6d408698d8fe\",                        [{\"cells\":{\"align\":[\"left\",\"center\"],\"fill\":{\"color\":[[\"lightgrey\",\"white\",\"lightgrey\",\"white\",\"lightgrey\",\"white\",\"lightgrey\",\"white\",\"lightgrey\"]]},\"font\":{\"color\":\"darkslategray\",\"size\":9},\"height\":25,\"line\":{\"color\":\"darkslategray\"},\"values\":[[\"SVM on bow\",\"SVM on tf-idf\",\"SVM on word embeddings\",\"RF on bow\",\"RF on tf-idf\",\"RF on word embeddings\",\"KNN on bow\",\"KNN on tf-idf\",\"KNN on word embeddings\"],[0.7717076888940224,0.7741453762878321,0.7603800872225385,0.733072187223068,0.7510217281048241,0.7490970637202654,0.6619814457823192,0.6646082814944966,0.6939969675005665],[0.7697269026262182,0.7756395737701913,0.7577903911993135,0.7496136872421197,0.7654733087173098,0.7433133900784598,0.6919203857935614,0.6966751265159774,0.7003230624043686],[0.7317743073392126,0.7427527951548838,0.7134678355712093,0.734525203782699,0.7437094337882953,0.6937991339456847,0.6292365040141579,0.6438725403322529,0.6876618635840549],[0.7697269026262182,0.7756395737701913,0.7577903911993135,0.7496136872421197,0.7654733087173098,0.7433133900784598,0.6919203857935614,0.6966751265159774,0.7003230624043686]]},\"header\":{\"align\":[\"left\",\"center\"],\"fill\":{\"color\":\"grey\"},\"font\":{\"color\":\"white\",\"size\":15},\"line\":{\"color\":\"darkslategray\"},\"values\":[\"<b>Classifier</b>\",\"<b>Precision</b>\",\"<b>Recall</b>\",\"<b>F-Measure</b>\",\"<b>Accuracy</b>\"]},\"type\":\"table\"}],                        {\"template\":{\"data\":{\"bar\":[{\"error_x\":{\"color\":\"#2a3f5f\"},\"error_y\":{\"color\":\"#2a3f5f\"},\"marker\":{\"line\":{\"color\":\"#E5ECF6\",\"width\":0.5},\"pattern\":{\"fillmode\":\"overlay\",\"size\":10,\"solidity\":0.2}},\"type\":\"bar\"}],\"barpolar\":[{\"marker\":{\"line\":{\"color\":\"#E5ECF6\",\"width\":0.5},\"pattern\":{\"fillmode\":\"overlay\",\"size\":10,\"solidity\":0.2}},\"type\":\"barpolar\"}],\"carpet\":[{\"aaxis\":{\"endlinecolor\":\"#2a3f5f\",\"gridcolor\":\"white\",\"linecolor\":\"white\",\"minorgridcolor\":\"white\",\"startlinecolor\":\"#2a3f5f\"},\"baxis\":{\"endlinecolor\":\"#2a3f5f\",\"gridcolor\":\"white\",\"linecolor\":\"white\",\"minorgridcolor\":\"white\",\"startlinecolor\":\"#2a3f5f\"},\"type\":\"carpet\"}],\"choropleth\":[{\"colorbar\":{\"outlinewidth\":0,\"ticks\":\"\"},\"type\":\"choropleth\"}],\"contour\":[{\"colorbar\":{\"outlinewidth\":0,\"ticks\":\"\"},\"colorscale\":[[0.0,\"#0d0887\"],[0.1111111111111111,\"#46039f\"],[0.2222222222222222,\"#7201a8\"],[0.3333333333333333,\"#9c179e\"],[0.4444444444444444,\"#bd3786\"],[0.5555555555555556,\"#d8576b\"],[0.6666666666666666,\"#ed7953\"],[0.7777777777777778,\"#fb9f3a\"],[0.8888888888888888,\"#fdca26\"],[1.0,\"#f0f921\"]],\"type\":\"contour\"}],\"contourcarpet\":[{\"colorbar\":{\"outlinewidth\":0,\"ticks\":\"\"},\"type\":\"contourcarpet\"}],\"heatmap\":[{\"colorbar\":{\"outlinewidth\":0,\"ticks\":\"\"},\"colorscale\":[[0.0,\"#0d0887\"],[0.1111111111111111,\"#46039f\"],[0.2222222222222222,\"#7201a8\"],[0.3333333333333333,\"#9c179e\"],[0.4444444444444444,\"#bd3786\"],[0.5555555555555556,\"#d8576b\"],[0.6666666666666666,\"#ed7953\"],[0.7777777777777778,\"#fb9f3a\"],[0.8888888888888888,\"#fdca26\"],[1.0,\"#f0f921\"]],\"type\":\"heatmap\"}],\"heatmapgl\":[{\"colorbar\":{\"outlinewidth\":0,\"ticks\":\"\"},\"colorscale\":[[0.0,\"#0d0887\"],[0.1111111111111111,\"#46039f\"],[0.2222222222222222,\"#7201a8\"],[0.3333333333333333,\"#9c179e\"],[0.4444444444444444,\"#bd3786\"],[0.5555555555555556,\"#d8576b\"],[0.6666666666666666,\"#ed7953\"],[0.7777777777777778,\"#fb9f3a\"],[0.8888888888888888,\"#fdca26\"],[1.0,\"#f0f921\"]],\"type\":\"heatmapgl\"}],\"histogram\":[{\"marker\":{\"pattern\":{\"fillmode\":\"overlay\",\"size\":10,\"solidity\":0.2}},\"type\":\"histogram\"}],\"histogram2d\":[{\"colorbar\":{\"outlinewidth\":0,\"ticks\":\"\"},\"colorscale\":[[0.0,\"#0d0887\"],[0.1111111111111111,\"#46039f\"],[0.2222222222222222,\"#7201a8\"],[0.3333333333333333,\"#9c179e\"],[0.4444444444444444,\"#bd3786\"],[0.5555555555555556,\"#d8576b\"],[0.6666666666666666,\"#ed7953\"],[0.7777777777777778,\"#fb9f3a\"],[0.8888888888888888,\"#fdca26\"],[1.0,\"#f0f921\"]],\"type\":\"histogram2d\"}],\"histogram2dcontour\":[{\"colorbar\":{\"outlinewidth\":0,\"ticks\":\"\"},\"colorscale\":[[0.0,\"#0d0887\"],[0.1111111111111111,\"#46039f\"],[0.2222222222222222,\"#7201a8\"],[0.3333333333333333,\"#9c179e\"],[0.4444444444444444,\"#bd3786\"],[0.5555555555555556,\"#d8576b\"],[0.6666666666666666,\"#ed7953\"],[0.7777777777777778,\"#fb9f3a\"],[0.8888888888888888,\"#fdca26\"],[1.0,\"#f0f921\"]],\"type\":\"histogram2dcontour\"}],\"mesh3d\":[{\"colorbar\":{\"outlinewidth\":0,\"ticks\":\"\"},\"type\":\"mesh3d\"}],\"parcoords\":[{\"line\":{\"colorbar\":{\"outlinewidth\":0,\"ticks\":\"\"}},\"type\":\"parcoords\"}],\"pie\":[{\"automargin\":true,\"type\":\"pie\"}],\"scatter\":[{\"marker\":{\"colorbar\":{\"outlinewidth\":0,\"ticks\":\"\"}},\"type\":\"scatter\"}],\"scatter3d\":[{\"line\":{\"colorbar\":{\"outlinewidth\":0,\"ticks\":\"\"}},\"marker\":{\"colorbar\":{\"outlinewidth\":0,\"ticks\":\"\"}},\"type\":\"scatter3d\"}],\"scattercarpet\":[{\"marker\":{\"colorbar\":{\"outlinewidth\":0,\"ticks\":\"\"}},\"type\":\"scattercarpet\"}],\"scattergeo\":[{\"marker\":{\"colorbar\":{\"outlinewidth\":0,\"ticks\":\"\"}},\"type\":\"scattergeo\"}],\"scattergl\":[{\"marker\":{\"colorbar\":{\"outlinewidth\":0,\"ticks\":\"\"}},\"type\":\"scattergl\"}],\"scattermapbox\":[{\"marker\":{\"colorbar\":{\"outlinewidth\":0,\"ticks\":\"\"}},\"type\":\"scattermapbox\"}],\"scatterpolar\":[{\"marker\":{\"colorbar\":{\"outlinewidth\":0,\"ticks\":\"\"}},\"type\":\"scatterpolar\"}],\"scatterpolargl\":[{\"marker\":{\"colorbar\":{\"outlinewidth\":0,\"ticks\":\"\"}},\"type\":\"scatterpolargl\"}],\"scatterternary\":[{\"marker\":{\"colorbar\":{\"outlinewidth\":0,\"ticks\":\"\"}},\"type\":\"scatterternary\"}],\"surface\":[{\"colorbar\":{\"outlinewidth\":0,\"ticks\":\"\"},\"colorscale\":[[0.0,\"#0d0887\"],[0.1111111111111111,\"#46039f\"],[0.2222222222222222,\"#7201a8\"],[0.3333333333333333,\"#9c179e\"],[0.4444444444444444,\"#bd3786\"],[0.5555555555555556,\"#d8576b\"],[0.6666666666666666,\"#ed7953\"],[0.7777777777777778,\"#fb9f3a\"],[0.8888888888888888,\"#fdca26\"],[1.0,\"#f0f921\"]],\"type\":\"surface\"}],\"table\":[{\"cells\":{\"fill\":{\"color\":\"#EBF0F8\"},\"line\":{\"color\":\"white\"}},\"header\":{\"fill\":{\"color\":\"#C8D4E3\"},\"line\":{\"color\":\"white\"}},\"type\":\"table\"}]},\"layout\":{\"annotationdefaults\":{\"arrowcolor\":\"#2a3f5f\",\"arrowhead\":0,\"arrowwidth\":1},\"autotypenumbers\":\"strict\",\"coloraxis\":{\"colorbar\":{\"outlinewidth\":0,\"ticks\":\"\"}},\"colorscale\":{\"diverging\":[[0,\"#8e0152\"],[0.1,\"#c51b7d\"],[0.2,\"#de77ae\"],[0.3,\"#f1b6da\"],[0.4,\"#fde0ef\"],[0.5,\"#f7f7f7\"],[0.6,\"#e6f5d0\"],[0.7,\"#b8e186\"],[0.8,\"#7fbc41\"],[0.9,\"#4d9221\"],[1,\"#276419\"]],\"sequential\":[[0.0,\"#0d0887\"],[0.1111111111111111,\"#46039f\"],[0.2222222222222222,\"#7201a8\"],[0.3333333333333333,\"#9c179e\"],[0.4444444444444444,\"#bd3786\"],[0.5555555555555556,\"#d8576b\"],[0.6666666666666666,\"#ed7953\"],[0.7777777777777778,\"#fb9f3a\"],[0.8888888888888888,\"#fdca26\"],[1.0,\"#f0f921\"]],\"sequentialminus\":[[0.0,\"#0d0887\"],[0.1111111111111111,\"#46039f\"],[0.2222222222222222,\"#7201a8\"],[0.3333333333333333,\"#9c179e\"],[0.4444444444444444,\"#bd3786\"],[0.5555555555555556,\"#d8576b\"],[0.6666666666666666,\"#ed7953\"],[0.7777777777777778,\"#fb9f3a\"],[0.8888888888888888,\"#fdca26\"],[1.0,\"#f0f921\"]]},\"colorway\":[\"#636efa\",\"#EF553B\",\"#00cc96\",\"#ab63fa\",\"#FFA15A\",\"#19d3f3\",\"#FF6692\",\"#B6E880\",\"#FF97FF\",\"#FECB52\"],\"font\":{\"color\":\"#2a3f5f\"},\"geo\":{\"bgcolor\":\"white\",\"lakecolor\":\"white\",\"landcolor\":\"#E5ECF6\",\"showlakes\":true,\"showland\":true,\"subunitcolor\":\"white\"},\"hoverlabel\":{\"align\":\"left\"},\"hovermode\":\"closest\",\"mapbox\":{\"style\":\"light\"},\"paper_bgcolor\":\"white\",\"plot_bgcolor\":\"#E5ECF6\",\"polar\":{\"angularaxis\":{\"gridcolor\":\"white\",\"linecolor\":\"white\",\"ticks\":\"\"},\"bgcolor\":\"#E5ECF6\",\"radialaxis\":{\"gridcolor\":\"white\",\"linecolor\":\"white\",\"ticks\":\"\"}},\"scene\":{\"xaxis\":{\"backgroundcolor\":\"#E5ECF6\",\"gridcolor\":\"white\",\"gridwidth\":2,\"linecolor\":\"white\",\"showbackground\":true,\"ticks\":\"\",\"zerolinecolor\":\"white\"},\"yaxis\":{\"backgroundcolor\":\"#E5ECF6\",\"gridcolor\":\"white\",\"gridwidth\":2,\"linecolor\":\"white\",\"showbackground\":true,\"ticks\":\"\",\"zerolinecolor\":\"white\"},\"zaxis\":{\"backgroundcolor\":\"#E5ECF6\",\"gridcolor\":\"white\",\"gridwidth\":2,\"linecolor\":\"white\",\"showbackground\":true,\"ticks\":\"\",\"zerolinecolor\":\"white\"}},\"shapedefaults\":{\"line\":{\"color\":\"#2a3f5f\"}},\"ternary\":{\"aaxis\":{\"gridcolor\":\"white\",\"linecolor\":\"white\",\"ticks\":\"\"},\"baxis\":{\"gridcolor\":\"white\",\"linecolor\":\"white\",\"ticks\":\"\"},\"bgcolor\":\"#E5ECF6\",\"caxis\":{\"gridcolor\":\"white\",\"linecolor\":\"white\",\"ticks\":\"\"}},\"title\":{\"x\":0.05},\"xaxis\":{\"automargin\":true,\"gridcolor\":\"white\",\"linecolor\":\"white\",\"ticks\":\"\",\"title\":{\"standoff\":15},\"zerolinecolor\":\"white\",\"zerolinewidth\":2},\"yaxis\":{\"automargin\":true,\"gridcolor\":\"white\",\"linecolor\":\"white\",\"ticks\":\"\",\"title\":{\"standoff\":15},\"zerolinecolor\":\"white\",\"zerolinewidth\":2}}}},                        {\"responsive\": true}                    ).then(function(){\n",
              "                            \n",
              "var gd = document.getElementById('982fdf5c-2097-4cfa-a001-6d408698d8fe');\n",
              "var x = new MutationObserver(function (mutations, observer) {{\n",
              "        var display = window.getComputedStyle(gd).display;\n",
              "        if (!display || display === 'none') {{\n",
              "            console.log([gd, 'removed!']);\n",
              "            Plotly.purge(gd);\n",
              "            observer.disconnect();\n",
              "        }}\n",
              "}});\n",
              "\n",
              "// Listen for the removal of the full notebook cells\n",
              "var notebookContainer = gd.closest('#notebook-container');\n",
              "if (notebookContainer) {{\n",
              "    x.observe(notebookContainer, {childList: true});\n",
              "}}\n",
              "\n",
              "// Listen for the clearing of the current output cell\n",
              "var outputEl = gd.closest('.output');\n",
              "if (outputEl) {{\n",
              "    x.observe(outputEl, {childList: true});\n",
              "}}\n",
              "\n",
              "                        })                };                            </script>        </div>\n",
              "</body>\n",
              "</html>"
            ]
          },
          "metadata": {}
        }
      ]
    },
    {
      "cell_type": "markdown",
      "source": [
        "# **Classifiers**\n",
        "> Now we need to train and test our data using the models we created in the vectorization on svm, random forests and knn classifiers thus create our final models.\n",
        "\n"
      ],
      "metadata": {
        "id": "A06YiAN2-gOj"
      }
    },
    {
      "cell_type": "code",
      "source": [
        "svmClf = svm.SVC(gamma=0.001, C=100.)\n",
        "\n",
        "rfClf = RandomForestClassifier(random_state=0)\n",
        "\n",
        "knnClf = KNeighborsClassifier(n_neighbors=5)"
      ],
      "metadata": {
        "id": "YDhiUpLpPlCg"
      },
      "execution_count": null,
      "outputs": []
    },
    {
      "cell_type": "markdown",
      "source": [
        "## *1a. SVM using Bag of Words*"
      ],
      "metadata": {
        "id": "-D0W_dSwC7nq"
      }
    },
    {
      "cell_type": "code",
      "source": [
        "# Training\n",
        "\n",
        "print(\"Training the data set with SVM using Bag of Words......\")\n",
        "svmClf.fit(bow_X_train, y_train)\n",
        "print(\"Training Completed\")"
      ],
      "metadata": {
        "colab": {
          "base_uri": "https://localhost:8080/"
        },
        "id": "ayDjsBc6-rYU",
        "outputId": "0d36b71b-8a95-4921-e07a-0713d0413825"
      },
      "execution_count": null,
      "outputs": [
        {
          "output_type": "stream",
          "name": "stdout",
          "text": [
            "Training the data set with SVM using Bag of Words......\n",
            "Training Completed\n"
          ]
        }
      ]
    },
    {
      "cell_type": "code",
      "source": [
        "# Testing\n",
        "\n",
        "print(\"Testing data...\")\n",
        "bow_svm_result = svmClf.predict(bow_X_test)\n",
        "print(\"Testing completed. Results are available.\")"
      ],
      "metadata": {
        "id": "-_Y2_-5iHlhp",
        "colab": {
          "base_uri": "https://localhost:8080/"
        },
        "outputId": "f5907951-b688-4d43-e668-6b2df220f1b3"
      },
      "execution_count": null,
      "outputs": [
        {
          "output_type": "stream",
          "name": "stdout",
          "text": [
            "Testing data...\n",
            "Testing completed. Results are available.\n"
          ]
        }
      ]
    },
    {
      "cell_type": "code",
      "source": [
        "# Accuracy\n",
        "val_acc = accuracy_score(y_test, bow_svm_result)"
      ],
      "metadata": {
        "id": "7udNUwwqz0ab"
      },
      "execution_count": null,
      "outputs": []
    },
    {
      "cell_type": "code",
      "source": [
        "val_acc"
      ],
      "metadata": {
        "colab": {
          "base_uri": "https://localhost:8080/"
        },
        "id": "Ozdn_IHq0DWw",
        "outputId": "99485c82-8a94-408f-d188-03d023d49db8"
      },
      "execution_count": null,
      "outputs": [
        {
          "output_type": "execute_result",
          "data": {
            "text/plain": [
              "0.7541164769587799"
            ]
          },
          "metadata": {},
          "execution_count": 36
        }
      ]
    },
    {
      "cell_type": "markdown",
      "source": [
        "## *1b. SVM using TF-IDF*"
      ],
      "metadata": {
        "id": "kAZh208cqfGy"
      }
    },
    {
      "cell_type": "code",
      "source": [
        "# Training\n",
        "\n",
        "print(\"Training the dataset with SVM using TF-IDF...\")\n",
        "svmClf.fit(tfidf_X_train, y_train)\n",
        "print(\"Training Completed.\")"
      ],
      "metadata": {
        "colab": {
          "base_uri": "https://localhost:8080/"
        },
        "id": "KI0BY_3-qmeD",
        "outputId": "f730abd5-235f-4359-ad05-84d78e7ca62c"
      },
      "execution_count": null,
      "outputs": [
        {
          "output_type": "stream",
          "name": "stdout",
          "text": [
            "Training the dataset with SVM using TF-IDF...\n",
            "Training Completed.\n"
          ]
        }
      ]
    },
    {
      "cell_type": "code",
      "source": [
        "# Testing\n",
        "\n",
        "print(\"Testing data...\")\n",
        "tfidf_svm_result = svmClf.predict(tfidf_X_test)\n",
        "print(\"Testing completed. Results are available.\")"
      ],
      "metadata": {
        "id": "kA3NLUkS2TB1",
        "colab": {
          "base_uri": "https://localhost:8080/"
        },
        "outputId": "29120d79-a8e3-4f51-df50-d4b918e27df0"
      },
      "execution_count": null,
      "outputs": [
        {
          "output_type": "stream",
          "name": "stdout",
          "text": [
            "Testing data...\n",
            "Testing completed. Results are available.\n"
          ]
        }
      ]
    },
    {
      "cell_type": "code",
      "source": [
        "val_acc = accuracy_score(y_test, tfidf_svm_result)"
      ],
      "metadata": {
        "id": "iCHPD7_d3CBF"
      },
      "execution_count": null,
      "outputs": []
    },
    {
      "cell_type": "code",
      "source": [
        "val_acc"
      ],
      "metadata": {
        "colab": {
          "base_uri": "https://localhost:8080/"
        },
        "id": "nJlKoCYr3FxB",
        "outputId": "66f1233c-0088-4594-90a0-5fa8fab4f57b"
      },
      "execution_count": null,
      "outputs": [
        {
          "output_type": "execute_result",
          "data": {
            "text/plain": [
              "0.7474859100453088"
            ]
          },
          "metadata": {},
          "execution_count": 40
        }
      ]
    },
    {
      "cell_type": "markdown",
      "source": [
        "## *1c. SVM using Word Embeddings*"
      ],
      "metadata": {
        "id": "CZBzgInfqvVw"
      }
    },
    {
      "cell_type": "code",
      "source": [
        "# Training\n",
        "\n",
        "print(\"Training the dataset with SVM using Word Embeddings...\")\n",
        "svmClf.fit(w2v_X_train, y_train)\n",
        "print(\"Training Completed.\")"
      ],
      "metadata": {
        "colab": {
          "base_uri": "https://localhost:8080/"
        },
        "id": "Or86xzCChJ3S",
        "outputId": "46cb8d3c-c5f5-4cd2-cdf4-8a8918269422"
      },
      "execution_count": null,
      "outputs": [
        {
          "output_type": "stream",
          "name": "stdout",
          "text": [
            "Training the dataset with SVM using Word Embeddings...\n",
            "Training Completed.\n"
          ]
        }
      ]
    },
    {
      "cell_type": "code",
      "source": [
        "# Testing\n",
        "\n",
        "print(\"Testing data...\")\n",
        "w2v_svm_result = svmClf.predict(w2v_X_test)\n",
        "print(\"Testing completed. Results are available.\")"
      ],
      "metadata": {
        "colab": {
          "base_uri": "https://localhost:8080/"
        },
        "id": "cvItPt_36boq",
        "outputId": "e9f89ffe-7a3c-409c-ecb4-4f1bde74741b"
      },
      "execution_count": null,
      "outputs": [
        {
          "output_type": "stream",
          "name": "stdout",
          "text": [
            "Testing data...\n",
            "Testing completed. Results are available.\n"
          ]
        }
      ]
    },
    {
      "cell_type": "code",
      "source": [
        "val_acc = accuracy_score(y_test, w2v_svm_result)"
      ],
      "metadata": {
        "id": "7auHMKYH6bos"
      },
      "execution_count": null,
      "outputs": []
    },
    {
      "cell_type": "code",
      "source": [
        "val_acc"
      ],
      "metadata": {
        "colab": {
          "base_uri": "https://localhost:8080/"
        },
        "outputId": "b8ab6b4e-c87c-496a-f8a3-a78937f9c5a3",
        "id": "M2daQCmZ6bos"
      },
      "execution_count": null,
      "outputs": [
        {
          "output_type": "execute_result",
          "data": {
            "text/plain": [
              "0.748148966736656"
            ]
          },
          "metadata": {},
          "execution_count": 64
        }
      ]
    },
    {
      "cell_type": "markdown",
      "source": [
        "## *2a. Random Forests using Bag of Words*"
      ],
      "metadata": {
        "id": "OhZYiWA3rVKJ"
      }
    },
    {
      "cell_type": "code",
      "source": [
        "# Training\n",
        "\n",
        "print(\"Training the data set with Random Forests using Bag of Words...\")\n",
        "rfClf.fit(bow_X_train, y_train)\n",
        "print(\"Training Completed\")"
      ],
      "metadata": {
        "id": "I4t6Jth5rd7D",
        "colab": {
          "base_uri": "https://localhost:8080/"
        },
        "outputId": "93b4a7a9-98b6-40b9-dea9-a57d50b01bd7"
      },
      "execution_count": null,
      "outputs": [
        {
          "output_type": "stream",
          "name": "stdout",
          "text": [
            "Training the data set with Random Forests using Bag of Words...\n",
            "Training Completed\n"
          ]
        }
      ]
    },
    {
      "cell_type": "code",
      "source": [
        "# Testing\n",
        "\n",
        "print(\"Testing data...\")\n",
        "bow_rf_result = rfClf.predict(bow_X_test)\n",
        "print(\"Testing completed. Results are available.\")"
      ],
      "metadata": {
        "colab": {
          "base_uri": "https://localhost:8080/"
        },
        "id": "lFR1br5Gl6Xq",
        "outputId": "4882ac6d-3c1e-45f2-c25a-825ec888e98e"
      },
      "execution_count": null,
      "outputs": [
        {
          "output_type": "stream",
          "name": "stdout",
          "text": [
            "Testing data...\n",
            "Testing completed. Results are available.\n"
          ]
        }
      ]
    },
    {
      "cell_type": "code",
      "source": [
        "val_acc = accuracy_score(y_test, bow_rf_result)"
      ],
      "metadata": {
        "id": "Fp8wKRGNl64x"
      },
      "execution_count": null,
      "outputs": []
    },
    {
      "cell_type": "code",
      "source": [
        "val_acc"
      ],
      "metadata": {
        "colab": {
          "base_uri": "https://localhost:8080/"
        },
        "id": "4EckLI4el7JU",
        "outputId": "1d187e67-8889-42c6-ba9d-9d733bc23e42"
      },
      "execution_count": null,
      "outputs": [
        {
          "output_type": "execute_result",
          "data": {
            "text/plain": [
              "0.7433970604486684"
            ]
          },
          "metadata": {},
          "execution_count": 48
        }
      ]
    },
    {
      "cell_type": "markdown",
      "source": [
        "## *2b. Random Forests using TF-IDF*"
      ],
      "metadata": {
        "id": "NzQQlEMyrisb"
      }
    },
    {
      "cell_type": "code",
      "source": [
        "# Training\n",
        "\n",
        "print(\"Training the dataset with Random Forests using TF-IDF...\")\n",
        "rfClf.fit(tfidf_X_train, y_train)\n",
        "print(\"Training Completed.\")"
      ],
      "metadata": {
        "id": "NfJfDg0zszGt",
        "colab": {
          "base_uri": "https://localhost:8080/"
        },
        "outputId": "f0c60382-c734-4281-8b98-a181091dc99c"
      },
      "execution_count": null,
      "outputs": [
        {
          "output_type": "stream",
          "name": "stdout",
          "text": [
            "Training the dataset with Random Forests using TF-IDF...\n",
            "Training Completed.\n"
          ]
        }
      ]
    },
    {
      "cell_type": "code",
      "source": [
        "# Testing\n",
        "\n",
        "print(\"Testing data...\")\n",
        "tfidf_rf_result = rfClf.predict(tfidf_X_test)\n",
        "print(\"Testing completed. Results are available.\")"
      ],
      "metadata": {
        "colab": {
          "base_uri": "https://localhost:8080/"
        },
        "outputId": "26529176-5b9d-4015-dcc7-a886f77b9efe",
        "id": "iU1Msbh9nhY_"
      },
      "execution_count": null,
      "outputs": [
        {
          "output_type": "stream",
          "name": "stdout",
          "text": [
            "Testing data...\n",
            "Testing completed. Results are available.\n"
          ]
        }
      ]
    },
    {
      "cell_type": "code",
      "source": [
        "val_acc = accuracy_score(y_test, tfidf_rf_result)"
      ],
      "metadata": {
        "id": "4AfQbpr8nhZA"
      },
      "execution_count": null,
      "outputs": []
    },
    {
      "cell_type": "code",
      "source": [
        "val_acc"
      ],
      "metadata": {
        "colab": {
          "base_uri": "https://localhost:8080/"
        },
        "outputId": "473c5a47-b8c5-4948-d1b5-dad67c860e9b",
        "id": "bo7Xn_vRnhZB"
      },
      "execution_count": null,
      "outputs": [
        {
          "output_type": "execute_result",
          "data": {
            "text/plain": [
              "0.7548900430986849"
            ]
          },
          "metadata": {},
          "execution_count": 72
        }
      ]
    },
    {
      "cell_type": "markdown",
      "source": [
        "## *2c. Random Forests using Word Embeddings*"
      ],
      "metadata": {
        "id": "Oz5VjPpxs1f1"
      }
    },
    {
      "cell_type": "code",
      "source": [
        "# Training\n",
        "\n",
        "print(\"Training the dataset with Random Forests using Word Embeddings...\")\n",
        "rfClf.fit(w2v_X_train, y_train)\n",
        "print(\"Training Completed.\")"
      ],
      "metadata": {
        "colab": {
          "base_uri": "https://localhost:8080/"
        },
        "outputId": "d80eb766-ea0f-43d4-c513-92eb853800a3",
        "id": "YgrsBaefn9rW"
      },
      "execution_count": null,
      "outputs": [
        {
          "output_type": "stream",
          "name": "stdout",
          "text": [
            "Training the dataset with Random Forests using Word Embeddings...\n",
            "Training Completed.\n"
          ]
        }
      ]
    },
    {
      "cell_type": "code",
      "source": [
        "# Testing\n",
        "\n",
        "print(\"Testing data...\")\n",
        "w2v_rf_result = rfClf.predict(w2v_X_test)\n",
        "print(\"Testing completed. Results are available.\")"
      ],
      "metadata": {
        "colab": {
          "base_uri": "https://localhost:8080/"
        },
        "outputId": "56744d86-98df-408d-fb74-a3841b1b7c96",
        "id": "B0VfaWJsn9rj"
      },
      "execution_count": null,
      "outputs": [
        {
          "output_type": "stream",
          "name": "stdout",
          "text": [
            "Testing data...\n",
            "Testing completed. Results are available.\n"
          ]
        }
      ]
    },
    {
      "cell_type": "code",
      "source": [
        "val_acc = accuracy_score(y_test, w2v_rf_result)"
      ],
      "metadata": {
        "id": "KJ6_4Zrzn9rj"
      },
      "execution_count": null,
      "outputs": []
    },
    {
      "cell_type": "code",
      "source": [
        "val_acc"
      ],
      "metadata": {
        "colab": {
          "base_uri": "https://localhost:8080/"
        },
        "outputId": "9fae90e6-eb7d-4b78-af20-6fa0ba083582",
        "id": "I6IBUh-rn9rj"
      },
      "execution_count": null,
      "outputs": [
        {
          "output_type": "execute_result",
          "data": {
            "text/plain": [
              "0.7240579069510443"
            ]
          },
          "metadata": {},
          "execution_count": 77
        }
      ]
    },
    {
      "cell_type": "markdown",
      "source": [
        "## *3a. KNN using Bag of Words*"
      ],
      "metadata": {
        "id": "4Rgu33kTt1EJ"
      }
    },
    {
      "cell_type": "code",
      "source": [
        "# Training\n",
        "\n",
        "print(\"Training the data set with KNN using Bag of Words...\")\n",
        "knnClf.fit(bow_X_train, y_train)\n",
        "print(\"Training Completed\")"
      ],
      "metadata": {
        "colab": {
          "base_uri": "https://localhost:8080/"
        },
        "outputId": "65a18b0e-69de-4c08-b2e0-7c1c94589b65",
        "id": "lMTP1_ljYEEr"
      },
      "execution_count": null,
      "outputs": [
        {
          "output_type": "stream",
          "name": "stdout",
          "text": [
            "Training the data set with KNN using Bag of Words...\n",
            "Training Completed\n"
          ]
        }
      ]
    },
    {
      "cell_type": "code",
      "source": [
        "# Testing\n",
        "\n",
        "print(\"Testing data...\")\n",
        "bow_knn_result = knnClf.predict(bow_X_test)\n",
        "print(\"Testing completed. Results are available.\")"
      ],
      "metadata": {
        "colab": {
          "base_uri": "https://localhost:8080/"
        },
        "outputId": "5bb58f84-a094-4666-9653-fa31d8c7d168",
        "id": "9DLaG-RmYEEx"
      },
      "execution_count": null,
      "outputs": [
        {
          "output_type": "stream",
          "name": "stdout",
          "text": [
            "Testing data...\n",
            "Testing completed. Results are available.\n"
          ]
        }
      ]
    },
    {
      "cell_type": "code",
      "source": [
        "val_acc = accuracy_score(y_test, bow_knn_result)"
      ],
      "metadata": {
        "id": "ssl6OwHZYEEy"
      },
      "execution_count": null,
      "outputs": []
    },
    {
      "cell_type": "code",
      "source": [
        "val_acc"
      ],
      "metadata": {
        "colab": {
          "base_uri": "https://localhost:8080/"
        },
        "outputId": "53470b59-63f9-4cb5-db49-0376132ae819",
        "id": "oOP8u4tbYEEy"
      },
      "execution_count": null,
      "outputs": [
        {
          "output_type": "execute_result",
          "data": {
            "text/plain": [
              "0.6833904298817549"
            ]
          },
          "metadata": {},
          "execution_count": 95
        }
      ]
    },
    {
      "cell_type": "markdown",
      "source": [
        "## *3b. KNN using TF-IDF*"
      ],
      "metadata": {
        "id": "glF-6NTpz3II"
      }
    },
    {
      "cell_type": "code",
      "source": [
        "# Training\n",
        "\n",
        "print(\"Training the dataset with KNN using TF-IDF...\")\n",
        "knnClf.fit(tfidf_X_train, y_train)\n",
        "print(\"Training Completed.\")"
      ],
      "metadata": {
        "colab": {
          "base_uri": "https://localhost:8080/"
        },
        "outputId": "94e77c69-3fa2-43fa-f112-c4e82b9e39e7",
        "id": "2RpzJB6uZOcy"
      },
      "execution_count": null,
      "outputs": [
        {
          "output_type": "stream",
          "name": "stdout",
          "text": [
            "Training the dataset with KNN using TF-IDF...\n",
            "Training Completed.\n"
          ]
        }
      ]
    },
    {
      "cell_type": "code",
      "source": [
        "# Testing\n",
        "\n",
        "print(\"Testing data...\")\n",
        "tfidf_knn_result = knnClf.predict(tfidf_X_test)\n",
        "print(\"Testing completed. Results are available.\")"
      ],
      "metadata": {
        "colab": {
          "base_uri": "https://localhost:8080/"
        },
        "outputId": "bdf0b10d-87af-4ddc-e55e-adb22b50a898",
        "id": "ApCbimBqZOc_"
      },
      "execution_count": null,
      "outputs": [
        {
          "output_type": "stream",
          "name": "stdout",
          "text": [
            "Testing data...\n",
            "Testing completed. Results are available.\n"
          ]
        }
      ]
    },
    {
      "cell_type": "code",
      "source": [
        "val_acc = accuracy_score(y_test, tfidf_knn_result)"
      ],
      "metadata": {
        "id": "xRd4aMuKZOc_"
      },
      "execution_count": null,
      "outputs": []
    },
    {
      "cell_type": "code",
      "source": [
        "val_acc"
      ],
      "metadata": {
        "colab": {
          "base_uri": "https://localhost:8080/"
        },
        "outputId": "f6a1aae0-871a-4385-a996-b00bbf9e3046",
        "id": "HYVUbvfuZOdA"
      },
      "execution_count": null,
      "outputs": [
        {
          "output_type": "execute_result",
          "data": {
            "text/plain": [
              "0.6935572991490773"
            ]
          },
          "metadata": {},
          "execution_count": 99
        }
      ]
    },
    {
      "cell_type": "markdown",
      "source": [
        "## *3a. KNN using Word Embeddings*"
      ],
      "metadata": {
        "id": "pkpkFafiz80G"
      }
    },
    {
      "cell_type": "code",
      "source": [
        "# Training\n",
        "\n",
        "print(\"Training the dataset with KNN using Word Embeddings...\")\n",
        "knnClf.fit(w2v_X_train, y_train)\n",
        "print(\"Training Completed.\")"
      ],
      "metadata": {
        "colab": {
          "base_uri": "https://localhost:8080/"
        },
        "id": "8RVAv8ytZpdr",
        "outputId": "2b2910f8-9597-4db7-bb67-8a189131d19a"
      },
      "execution_count": null,
      "outputs": [
        {
          "output_type": "stream",
          "name": "stdout",
          "text": [
            "Training the dataset with KNN using Word Embeddings...\n",
            "Training Completed.\n"
          ]
        }
      ]
    },
    {
      "cell_type": "code",
      "source": [
        "# Testing\n",
        "\n",
        "print(\"Testing data...\")\n",
        "w2v_knn_result = knnClf.predict(w2v_X_test)\n",
        "print(\"Testing completed. Results are available.\")"
      ],
      "metadata": {
        "colab": {
          "base_uri": "https://localhost:8080/"
        },
        "outputId": "dbd54190-5f98-4827-a550-05f465153c83",
        "id": "JcDAQJcbZhK1"
      },
      "execution_count": null,
      "outputs": [
        {
          "output_type": "stream",
          "name": "stdout",
          "text": [
            "Testing data...\n",
            "Testing completed. Results are available.\n"
          ]
        }
      ]
    },
    {
      "cell_type": "code",
      "source": [
        "val_acc = accuracy_score(y_test, w2v_knn_result)"
      ],
      "metadata": {
        "id": "0WnyAOkZZhK1"
      },
      "execution_count": null,
      "outputs": []
    },
    {
      "cell_type": "code",
      "source": [
        "val_acc"
      ],
      "metadata": {
        "colab": {
          "base_uri": "https://localhost:8080/"
        },
        "outputId": "9b94be8a-9e41-4c39-ab8d-2d0045ecd235",
        "id": "jYpd29MJZhK1"
      },
      "execution_count": null,
      "outputs": [
        {
          "output_type": "execute_result",
          "data": {
            "text/plain": [
              "0.7002983755111062"
            ]
          },
          "metadata": {},
          "execution_count": 103
        }
      ]
    },
    {
      "cell_type": "markdown",
      "source": [
        "# **LDA**"
      ],
      "metadata": {
        "id": "VoeipjD3aC8f"
      }
    },
    {
      "cell_type": "code",
      "source": [
        ""
      ],
      "metadata": {
        "id": "E_0iZJnnaFP8"
      },
      "execution_count": null,
      "outputs": []
    }
  ],
  "metadata": {
    "colab": {
      "collapsed_sections": [
        "3c9cCqec3_dc",
        "qastFhTm3m_h",
        "dp5E0l10jocl",
        "jJsDEFyJ_nVb",
        "kRqLezqNE7Sl",
        "TVDSTankgivb",
        "VtpNkV_HWxpv",
        "jX__JoCPB4lA",
        "JSa6fBT7O7Mm",
        "GqLBxaN-QQtp",
        "-D0W_dSwC7nq",
        "kAZh208cqfGy",
        "CZBzgInfqvVw",
        "OhZYiWA3rVKJ",
        "NzQQlEMyrisb",
        "Oz5VjPpxs1f1",
        "4Rgu33kTt1EJ",
        "glF-6NTpz3II",
        "pkpkFafiz80G",
        "VoeipjD3aC8f"
      ],
      "name": "DataMining1 - Sentiment Analysis.ipynb",
      "provenance": [],
      "mount_file_id": "1Mz3nYDWMan0owz7d4BrerWbIT--J15VY",
      "authorship_tag": "ABX9TyPtOwac2TwYEL2Wz2sx0j4n",
      "include_colab_link": true
    },
    "kernelspec": {
      "display_name": "Python 3",
      "name": "python3"
    },
    "language_info": {
      "name": "python"
    },
    "accelerator": "GPU"
  },
  "nbformat": 4,
  "nbformat_minor": 0
}
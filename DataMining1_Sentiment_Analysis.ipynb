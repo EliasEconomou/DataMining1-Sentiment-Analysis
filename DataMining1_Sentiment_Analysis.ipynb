{
  "nbformat": 4,
  "nbformat_minor": 0,
  "metadata": {
    "colab": {
      "name": "DataMining1 - Sentiment Analysis.ipynb",
      "provenance": [],
      "collapsed_sections": [
        "3c9cCqec3_dc",
        "qastFhTm3m_h"
      ],
      "mount_file_id": "1Mz3nYDWMan0owz7d4BrerWbIT--J15VY",
      "authorship_tag": "ABX9TyPD6e4BsruM68fV/MHPlg1S",
      "include_colab_link": true
    },
    "kernelspec": {
      "name": "python3",
      "display_name": "Python 3"
    },
    "language_info": {
      "name": "python"
    }
  },
  "cells": [
    {
      "cell_type": "markdown",
      "metadata": {
        "id": "view-in-github",
        "colab_type": "text"
      },
      "source": [
        "<a href=\"https://colab.research.google.com/github/EliasEconomou/DataMining1-Sentiment-Analysis/blob/main/DataMining1_Sentiment_Analysis.ipynb\" target=\"_parent\"><img src=\"https://colab.research.google.com/assets/colab-badge.svg\" alt=\"Open In Colab\"/></a>"
      ]
    },
    {
      "cell_type": "markdown",
      "source": [
        "# **Importing Libraries and Reading Datafile**"
      ],
      "metadata": {
        "id": "3c9cCqec3_dc"
      }
    },
    {
      "cell_type": "code",
      "execution_count": 444,
      "metadata": {
        "id": "c5UDgDAVfDzn",
        "colab": {
          "base_uri": "https://localhost:8080/"
        },
        "outputId": "31648785-50fa-4102-9d95-6eb59f4096b0"
      },
      "outputs": [
        {
          "output_type": "stream",
          "name": "stdout",
          "text": [
            "Requirement already satisfied: clean-text in /usr/local/lib/python3.7/dist-packages (0.6.0)\n",
            "Requirement already satisfied: emoji<2.0.0,>=1.0.0 in /usr/local/lib/python3.7/dist-packages (from clean-text) (1.7.0)\n",
            "Requirement already satisfied: ftfy<7.0,>=6.0 in /usr/local/lib/python3.7/dist-packages (from clean-text) (6.1.1)\n",
            "Requirement already satisfied: wcwidth>=0.2.5 in /usr/local/lib/python3.7/dist-packages (from ftfy<7.0,>=6.0->clean-text) (0.2.5)\n"
          ]
        }
      ],
      "source": [
        "import numpy as np\n",
        "import pandas as pd\n",
        "from sklearn.model_selection import train_test_split\n",
        "import re\n",
        "import sys\n",
        "import os.path\n",
        "!pip install clean-text\n",
        "from cleantext import clean"
      ]
    },
    {
      "cell_type": "code",
      "source": [
        "# Options\n",
        "pd.options.mode.chained_assignment = None"
      ],
      "metadata": {
        "id": "zobVXwWKA80s"
      },
      "execution_count": 445,
      "outputs": []
    },
    {
      "cell_type": "code",
      "source": [
        "# Reading data file\n",
        "fileExists = os.path.exists(\"./drive/MyDrive/ColabNotebooks/eclass_all_with_sentiment_v2.pkl\")\n",
        "if fileExists:\n",
        "  DF = pd.read_pickle(\"./drive/MyDrive/ColabNotebooks/eclass_all_with_sentiment_v2.pkl\")\n",
        "else:\n",
        "  print('Enter data file path:')\n",
        "  filePath = input()\n",
        "  DF = pd.read_pickle(filePath)\n"
      ],
      "metadata": {
        "id": "2Ym7TEJhhgqZ"
      },
      "execution_count": 446,
      "outputs": []
    },
    {
      "cell_type": "code",
      "source": [
        "# df.iloc[:20].to_csv('csv_all_sentiment.csv') #todo delete\n"
      ],
      "metadata": {
        "id": "Go5oxsn-sr9r"
      },
      "execution_count": 447,
      "outputs": []
    },
    {
      "cell_type": "markdown",
      "source": [
        "# **Preprocessing and Cleaning Data**"
      ],
      "metadata": {
        "id": "39dzZwauE9Vb"
      }
    },
    {
      "cell_type": "code",
      "source": [
        "# Choose a subset of the dataset's tweets\n",
        "numOfRows = DF.shape[0]\n",
        "percentage = 4\n",
        "df = DF.iloc[:int(percentage*0.01*numOfRows)]\n",
        "print(\"Chosen number of tweets is {}.\".format(df.shape[0]))"
      ],
      "metadata": {
        "colab": {
          "base_uri": "https://localhost:8080/"
        },
        "id": "dbQDXr0f39mM",
        "outputId": "9919c818-13e4-425f-8ce5-cc935913961c"
      },
      "execution_count": 448,
      "outputs": [
        {
          "output_type": "stream",
          "name": "stdout",
          "text": [
            "Chosen number of tweets is 9128.\n"
          ]
        }
      ]
    },
    {
      "cell_type": "code",
      "source": [
        "# Removing unimportant columns #todo delete\n",
        "# colsToDrop = [\"hashtags\"]\n",
        "# df.drop(columns=colsToDrop, inplace=True, axis=1)"
      ],
      "metadata": {
        "id": "5B4jxeSxCG87"
      },
      "execution_count": 449,
      "outputs": []
    },
    {
      "cell_type": "code",
      "source": [
        "df[\"text\"][9121]"
      ],
      "metadata": {
        "colab": {
          "base_uri": "https://localhost:8080/",
          "height": 53
        },
        "id": "O6XI93x-Gwp1",
        "outputId": "43426193-e488-4a26-a950-d7e8a3356338"
      },
      "execution_count": 450,
      "outputs": [
        {
          "output_type": "execute_result",
          "data": {
            "text/plain": [
              "'There is a link between  China, #Fauci #BillGates\\n#Pfizer #Moderna &amp;\\n#Covid. China was used by #Fauci #CDC #FDA… https://t.co/mfaOXLCc1V'"
            ],
            "application/vnd.google.colaboratory.intrinsic+json": {
              "type": "string"
            }
          },
          "metadata": {},
          "execution_count": 450
        }
      ]
    },
    {
      "cell_type": "code",
      "source": [
        "# Remove punctuation, links, hashtags, new lines etc, using regular expressions\n",
        "df[\"text\"] = df[\"text\"].replace('\\.|,|\\?','', regex=True)\n",
        "df[\"text\"] = df[\"text\"].replace('\\n|\\t','', regex=True)\n",
        "df[\"text\"] = df[\"text\"].replace(r'(http\\S+)|(www\\S+)|(#\\S+)|(&\\S+)|(@\\S+)','', regex=True)\n",
        "\n",
        "# Remove emojis by encoding - decoding into ascii, resulting in ignoring emojis\n",
        "df[\"text\"] = df[\"text\"].apply(lambda x: x.encode('ascii', 'ignore').decode('ascii'))\n",
        "\n",
        "# Remove any unnecessary spaces\n",
        "df[\"text\"] = df[\"text\"].replace(' +', ' ', regex=True)\n",
        "\n",
        "# Convert text to lowercase\n",
        "df[\"text\"] = df[\"text\"].str.lower()\n",
        "\n",
        "  # df['col'] = df['col'].str.replace('[^\\w\\s#@/:%.,_-]', '', flags=re.UNICODE)\n",
        "\n",
        "print(df[\"text\"][29]) #rem emojis todo del\n",
        "# df[\"user_name\"] = clean(df[\"user_name\"], no_emoji=True)\n",
        "# print(df[\"user_name\"][2])\n",
        "\n",
        "  # df[\"text\"] = df[\"text\"].replace('\\.','', regex=True).replace(',','', regex=True).replace('\\?','', regex=True)\n",
        "  # df[\"text\"] = df[\"text\"].replace(r'http\\S+','', regex=True).replace(r'#\\S+','', regex=True)\n",
        "  # df[\"text\"] = re.sub(r'^https?:\\/\\/.*[\\r\\n]*', '', text, flags=re.MULTILINE)"
      ],
      "metadata": {
        "id": "_Zue0HC8iSMv",
        "colab": {
          "base_uri": "https://localhost:8080/"
        },
        "outputId": "182be192-8e78-464b-f4c7-06d2d70d4901"
      },
      "execution_count": 451,
      "outputs": [
        {
          "output_type": "stream",
          "name": "stdout",
          "text": [
            " covid-19 belong \n"
          ]
        }
      ]
    },
    {
      "cell_type": "code",
      "source": [
        "df[\"text\"][9121]"
      ],
      "metadata": {
        "colab": {
          "base_uri": "https://localhost:8080/",
          "height": 35
        },
        "id": "yOhiIZ_4uruA",
        "outputId": "f86a0ce3-aef1-4c44-c016-be6c6a384e03"
      },
      "execution_count": 452,
      "outputs": [
        {
          "output_type": "execute_result",
          "data": {
            "text/plain": [
              "'there is a link between china china was used by '"
            ],
            "application/vnd.google.colaboratory.intrinsic+json": {
              "type": "string"
            }
          },
          "metadata": {},
          "execution_count": 452
        }
      ]
    },
    {
      "cell_type": "code",
      "source": [
        ""
      ],
      "metadata": {
        "id": "JZPnBGQo3dfI"
      },
      "execution_count": 452,
      "outputs": []
    },
    {
      "cell_type": "markdown",
      "source": [
        "# **Analyzing Data**"
      ],
      "metadata": {
        "id": "qastFhTm3m_h"
      }
    },
    {
      "cell_type": "code",
      "source": [
        ""
      ],
      "metadata": {
        "id": "kv34aRQf3mNm"
      },
      "execution_count": 452,
      "outputs": []
    }
  ]
}